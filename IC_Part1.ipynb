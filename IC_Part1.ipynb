{
 "cells": [
  {
   "cell_type": "markdown",
   "metadata": {},
   "source": [
    "# Instrument Classification - Part 1 : Pre-processing"
   ]
  },
  {
   "cell_type": "markdown",
   "metadata": {},
   "source": [
    "We start our first trial by trying to recognise piano (pia), acoustic guitar (gac), saxophone (sax) and voice (voi).  "
   ]
  },
  {
   "cell_type": "code",
   "execution_count": null,
   "metadata": {},
   "outputs": [],
   "source": [
    "import numpy as np\n",
    "import librosa\n",
    "import os\n",
    "import math\n",
    "from random import shuffle"
   ]
  },
  {
   "cell_type": "code",
   "execution_count": null,
   "metadata": {},
   "outputs": [],
   "source": [
    "def split_train_test(dir_array):\n",
    "    train_list = []\n",
    "    test_list = []\n",
    "    list = []\n",
    "    for dir in dir_array:\n",
    "        for f in os.listdir(dir):\n",
    "            list.append(dir+f)\n",
    "    shuffle(list)\n",
    "    split_index = math.floor(len(list)*0.90)\n",
    "    train_list = train_list + list[:split_index]\n",
    "    test_list = test_list + list[split_index:]\n",
    "    return (train_list,test_list)\n",
    "\n",
    "def pre_processing(trainList,testList):\n",
    "    x_train = []\n",
    "    y_train = []\n",
    "    x_test = []\n",
    "    y_test = []\n",
    "    for y in [trainList,testList]:\n",
    "        for f in y:\n",
    "            label = f.split('/')\n",
    "            wav,sr = librosa.load(f,mono=True)\n",
    "            wav = wav / np.sqrt(np.mean(wav**2))\n",
    "            mfcc = librosa.feature.melspectrogram(wav,n_mels =96,n_fft=1024,hop_length=256)\n",
    "            if (y == trainList):\n",
    "                y_train.append(label[4])\n",
    "                x_train.append(mfcc)\n",
    "            else:\n",
    "                y_test.append(label[4])\n",
    "                x_test.append(mfcc)\n",
    "    return (x_train,y_train,x_test,y_test)\n",
    "\n",
    "# [pia,gac,gel]\n",
    "def to_categorical(list):\n",
    "    temp_list = list\n",
    "    for i in range(len(list)):\n",
    "        if (list[i] == 'pia'):\n",
    "            #temp_list[i] = [1,0,0,0]\n",
    "            temp_list[i] = [1,0]\n",
    "        elif (list[i] == 'gac'):\n",
    "            temp_list[i] = [0,1]\n",
    "        #elif (list[i] == 'sax'):\n",
    "            #temp_list[i] = [0,0,1,0]\n",
    "        #elif (list[i] == 'voi'):\n",
    "            #temp_list[i] = [0,0,0,1]\n",
    "        else:\n",
    "            print(\"error\")\n",
    "    return temp_list"
   ]
  },
  {
   "cell_type": "code",
   "execution_count": null,
   "metadata": {},
   "outputs": [],
   "source": [
    "# ~10 minutes to run\n",
    "dirpia = './Desktop/Instrument-Classification/IRMAS-TrainingData/pia/'\n",
    "dirgac = './Desktop/Instrument-Classification/IRMAS-TrainingData/gac/'\n",
    "#dirsax = './Desktop/Instrument-Classification/IRMAS-TrainingData/sax/'\n",
    "#dirvoi = './Desktop/Instrument-Classification/IRMAS-TrainingData/voi/'\n",
    "\n",
    "(trainList,testList) = split_train_test([dirpia,dirgac])\n",
    "(x_train,y_train,x_test,y_test) = pre_processing(trainList,testList)\n",
    "\n",
    "y_train_new = np.array(to_categorical(y_train))\n",
    "y_test_new = np.array(to_categorical(y_test))\n",
    "x_train_new = np.expand_dims(np.array(x_train),-1)\n",
    "x_test_new = np.expand_dims(np.array(x_test),-1)\n",
    "\n",
    "print(\"Train Size: \", x_train_new.shape)\n",
    "print(\"Test Size:  \", x_test_new.shape)"
   ]
  },
  {
   "cell_type": "code",
   "execution_count": null,
   "metadata": {},
   "outputs": [],
   "source": [
    "np.save('x_train.npy',x_train_new)\n",
    "np.save('x_test.npy',x_test_new)\n",
    "np.save('y_train.npy',y_train_new)\n",
    "np.save('y_test.npy',y_test_new)"
   ]
  }
 ],
 "metadata": {
  "kernelspec": {
   "display_name": "Python 3",
   "language": "python",
   "name": "python3"
  },
  "language_info": {
   "codemirror_mode": {
    "name": "ipython",
    "version": 3
   },
   "file_extension": ".py",
   "mimetype": "text/x-python",
   "name": "python",
   "nbconvert_exporter": "python",
   "pygments_lexer": "ipython3",
   "version": "3.7.3"
  }
 },
 "nbformat": 4,
 "nbformat_minor": 2
}
