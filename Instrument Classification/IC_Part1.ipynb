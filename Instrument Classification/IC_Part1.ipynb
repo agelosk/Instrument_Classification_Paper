{
 "cells": [
  {
   "cell_type": "markdown",
   "metadata": {},
   "source": [
    "# Instrument Classification - Part 1 : Pre-Processing"
   ]
  },
  {
   "cell_type": "markdown",
   "metadata": {},
   "source": [
    "We start our first trial by trying to recognise piano (pia), acoustic guitar (gac)"
   ]
  },
  {
   "cell_type": "code",
   "execution_count": 10,
   "metadata": {},
   "outputs": [],
   "source": [
    "import numpy as np\n",
    "import librosa\n",
    "import os\n",
    "import math\n",
    "from random import shuffle\n",
    "from collections import deque\n",
    "from pydub import AudioSegment\n",
    "from pydub.utils import make_chunks"
   ]
  },
  {
   "cell_type": "code",
   "execution_count": 70,
   "metadata": {},
   "outputs": [],
   "source": [
    "dirpia = './Instrument-Classification/IRMAS-TrainingData/pia/'\n",
    "dirgac = './Instrument-Classification/IRMAS-TrainingData/gac/'\n",
    "dirsax = './Instrument-Classification/IRMAS-TrainingData/sax/'\n",
    "dirvoi = './Instrument-Classification/IRMAS-TrainingData/voi/'\n",
    "\n",
    "instr = ['pia','gac','sax','voi']\n",
    "dir = [dirpia,dirgac,dirsax,dirvoi]"
   ]
  },
  {
   "cell_type": "code",
   "execution_count": 159,
   "metadata": {},
   "outputs": [],
   "source": [
    "def split_train_test(dir_array):\n",
    "    train_list = []\n",
    "    test_list  = []\n",
    "    list = []\n",
    "    for dir in dir_array:\n",
    "        for f in os.listdir(dir):\n",
    "            list.append(dir+f)\n",
    "    shuffle(list)\n",
    "    # 90-10 split\n",
    "    split_index = math.floor(len(list)*0.90)\n",
    "    train_list = train_list + list[:split_index]\n",
    "    test_list = test_list + list[split_index:]\n",
    "    return (train_list,test_list)\n",
    "\n",
    "def pre_processing(trainList,testList):\n",
    "    x_train = []\n",
    "    y_train = []\n",
    "    x_test  = []\n",
    "    y_test  = []\n",
    "    for y in [trainList,testList]:\n",
    "        for f in y:\n",
    "            label = f.split('/')\n",
    "            # downsampled to 22050Hz and downmixed to mono\n",
    "            wav,sr = librosa.load(f,mono=True,sr=22050)\n",
    "            # normalized by the root mean square energy\n",
    "            wav = wav / np.sqrt(np.mean(wav**2))\n",
    "            # chunked to 1sec long snippets\n",
    "            chunks = make_chunks(wav,sr)\n",
    "            for wav in chunks:\n",
    "                # transformed into mel-spectrograms with given traits\n",
    "                mel = librosa.feature.melspectrogram(wav,n_mels=96,fmax=11025,n_fft=1024,hop_length=256,power=1)\n",
    "                # decibel scaling\n",
    "                mel = librosa.core.amplitude_to_db(mel)\n",
    "                # saved to train and test arrays\n",
    "                if (y == trainList):\n",
    "                    y_train.append(label[-2])\n",
    "                    x_train.append(mel)\n",
    "                else:\n",
    "                    y_test.append(label[-2])\n",
    "                    x_test.append(mel) \n",
    "    return (x_train,y_train,x_test,y_test)\n",
    "\n",
    "def to_categorical(list):\n",
    "    temp_list = [[0]*len(instr)]*(len(list))\n",
    "    for i in range(len(list)):\n",
    "        x = [0]*len(instr)\n",
    "        x.insert(0,1)\n",
    "        x.pop()\n",
    "        for ins in instr:\n",
    "            if (ins in list[i]): \n",
    "                temp_list[i] = [sum(x) for x in zip(temp_list[i],x)]\n",
    "            x.insert(0,x.pop())\n",
    "    return temp_list"
   ]
  },
  {
   "cell_type": "code",
   "execution_count": 43,
   "metadata": {},
   "outputs": [
    {
     "name": "stdout",
     "output_type": "stream",
     "text": [
      "Train Size: (3666, 96, 87, 1)\n",
      "Test  Size: (408, 96, 87, 1)\n"
     ]
    }
   ],
   "source": [
    "(trainList,testList) = split_train_test(dir)\n",
    "(x_train,y_train,x_test,y_test) = pre_processing(trainList,testList)\n",
    "\n",
    "y_train = np.array(to_categorical(y_train))\n",
    "y_test = np.array(to_categorical(y_test))\n",
    "x_train = np.expand_dims(np.array(x_train),-1)\n",
    "x_test = np.expand_dims(np.array(x_test),-1)\n",
    "\n",
    "#shuffling sets\n",
    "id1 = np.random.permutation(len(x_train))\n",
    "id2 = np.random.permutation(len(x_test))\n",
    "x_train,y_train = x_train[id1], y_train[id1]\n",
    "x_test,y_test = x_test[id2], y_test[id2]\n",
    "\n",
    "print(\"Train Size:\", x_train.shape)\n",
    "print(\"Test  Size:\", x_test.shape)"
   ]
  },
  {
   "cell_type": "code",
   "execution_count": 44,
   "metadata": {},
   "outputs": [],
   "source": [
    "np.save('x_train2.npy',x_train)\n",
    "np.save('x_test2.npy' ,x_test)\n",
    "np.save('y_train2.npy',y_train)\n",
    "np.save('y_test2.npy' ,y_test)"
   ]
  },
  {
   "cell_type": "code",
   "execution_count": 160,
   "metadata": {},
   "outputs": [
    {
     "name": "stdout",
     "output_type": "stream",
     "text": [
      "[[0, 0, 1, 0], [0, 1, 1, 1], [1, 1, 0, 0], [1, 0, 0, 0], [0, 1, 0, 1]]\n"
     ]
    }
   ],
   "source": [
    "list = [['sax'],['gac','sax','voi'],['pia','gac'],['pia'],['voi','gac']]\n",
    "print(to_categorical(list))"
   ]
  },
  {
   "cell_type": "code",
   "execution_count": null,
   "metadata": {},
   "outputs": [],
   "source": []
  }
 ],
 "metadata": {
  "kernelspec": {
   "display_name": "Python 3",
   "language": "python",
   "name": "python3"
  },
  "language_info": {
   "codemirror_mode": {
    "name": "ipython",
    "version": 3
   },
   "file_extension": ".py",
   "mimetype": "text/x-python",
   "name": "python",
   "nbconvert_exporter": "python",
   "pygments_lexer": "ipython3",
   "version": "3.7.3"
  }
 },
 "nbformat": 4,
 "nbformat_minor": 2
}
