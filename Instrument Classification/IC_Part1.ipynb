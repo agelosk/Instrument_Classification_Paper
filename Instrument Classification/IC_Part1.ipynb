{
 "cells": [
  {
   "cell_type": "markdown",
   "metadata": {},
   "source": [
    "# Instrument Classification - Part 1 : Pre-Processing"
   ]
  },
  {
   "cell_type": "markdown",
   "metadata": {},
   "source": [
    "We start our first trial by trying to recognise piano (pia), acoustic guitar (gac)"
   ]
  },
  {
   "cell_type": "code",
   "execution_count": 10,
   "metadata": {},
   "outputs": [],
   "source": [
    "import numpy as np\n",
    "import librosa\n",
    "import os\n",
    "import math\n",
    "from random import shuffle\n",
    "from collections import deque\n",
    "from pydub import AudioSegment\n",
    "from pydub.utils import make_chunks"
   ]
  },
  {
   "cell_type": "code",
   "execution_count": 14,
   "metadata": {},
   "outputs": [],
   "source": [
    "dirpia = './Instrument-Classification/IRMAS-TrainingData/1.pia/'\n",
    "dirgac = './Instrument-Classification/IRMAS-TrainingData/2.gac/'\n",
    "dirgel = './Instrument-Classification/IRMAS-TrainingData/3.gel/'\n",
    "dirvio = './Instrument-Classification/IRMAS-TrainingData/4.vio/'\n",
    "dircel = './Instrument-Classification/IRMAS-TrainingData/5.cel/'\n",
    "dirsax = './Instrument-Classification/IRMAS-TrainingData/6.sax/'\n",
    "dirtru = './Instrument-Classification/IRMAS-TrainingData/7.tru/'\n",
    "dircla = './Instrument-Classification/IRMAS-TrainingData/8.cla/'\n",
    "dirvoi = './Instrument-Classification/IRMAS-TrainingData/9.voi/'\n",
    "\n",
    "dirpia_gac = './Instrument-Classification/IRMAS-TrainingData/pia-gac/'\n",
    "dirpia_voi = './Instrument-Classification/IRMAS-TrainingData/pia-voi/'\n",
    "dirpia_gel = './Instrument-Classification/IRMAS-TrainingData/pia-gel/'\n",
    "dirgel_voi = './Instrument-Classification/IRMAS-TrainingData/gel-voi/'\n",
    "dirpia_vio = './Instrument-Classification/IRMAS-TrainingData/pia-vio/'\n",
    "dirgac_vio = './Instrument-Classification/IRMAS-TrainingData/gac-vio/'\n",
    "dirgel_vio = './Instrument-Classification/IRMAS-TrainingData/gel-vio/'\n",
    "dirvio_voi = './Instrument-Classification/IRMAS-TrainingData/vio-voi/'\n",
    "\n",
    "dirpia_cel = './Instrument-Classification/IRMAS-TrainingData/pia-cel/'\n",
    "dirgac_cel = './Instrument-Classification/IRMAS-TrainingData/gac-cel/'\n",
    "dirgel_cel = './Instrument-Classification/IRMAS-TrainingData/gel-cel/'\n",
    "dirvio_cel = './Instrument-Classification/IRMAS-TrainingData/vio-cel/'\n",
    "dircel_voi = './Instrument-Classification/IRMAS-TrainingData/cel-voi/'\n",
    "\n",
    "dir_array = [dircel_voi]\n",
    "inst = ['cel-voi']"
   ]
  },
  {
   "cell_type": "code",
   "execution_count": 15,
   "metadata": {},
   "outputs": [],
   "source": [
    "def pre_processing(dir_array):\n",
    "    x_list = []\n",
    "    y_list = []\n",
    "    check = 0\n",
    "    for dir in dir_array:\n",
    "        for f in os.listdir(dir):\n",
    "            try:            \n",
    "                # downsampled to 22050Hz and downmixed to mono\n",
    "                wav,sr = librosa.load(dir+f,mono=True,sr=22050)\n",
    "        \n",
    "                # normalized by the root mean square energy\n",
    "                wav = wav / np.sqrt(np.mean(wav**2))\n",
    "        \n",
    "                # transformed into mel-spectrograms with given traits\n",
    "                #mel = librosa.feature.melspectrogram(wav,n_mels=96,fmax=11025,n_fft=1024,hop_length=256,power=1)\n",
    "                mel = librosa.core.cqt(wav,n_bins=96,bins_per_octave=12,hop_length=256)\n",
    "            \n",
    "                # decibel scaling\n",
    "                mel = librosa.core.amplitude_to_db(np.abs(mel))\n",
    "                \n",
    "                #just for checking\n",
    "                if (check%500==0): \n",
    "                    print(check,\" chuncks have been made!\")\n",
    "                check+=1\n",
    "        \n",
    "                x_list.append(mel)\n",
    "            except:\n",
    "                print(\"Empty Track: \",f)\n",
    "                os.remove(dir+f)\n",
    "    return x_list"
   ]
  },
  {
   "cell_type": "code",
   "execution_count": 16,
   "metadata": {
    "scrolled": false
   },
   "outputs": [
    {
     "name": "stdout",
     "output_type": "stream",
     "text": [
      "0  chuncks have been made!\n",
      "500  chuncks have been made!\n",
      "1000  chuncks have been made!\n",
      "1500  chuncks have been made!\n",
      "2000  chuncks have been made!\n",
      "2500  chuncks have been made!\n",
      "3000  chuncks have been made!\n",
      "3500  chuncks have been made!\n",
      "4000  chuncks have been made!\n",
      "4500  chuncks have been made!\n",
      "5000  chuncks have been made!\n",
      "5500  chuncks have been made!\n",
      "6000  chuncks have been made!\n",
      "6500  chuncks have been made!\n",
      "7000  chuncks have been made!\n",
      "7500  chuncks have been made!\n",
      "8000  chuncks have been made!\n",
      "8500  chuncks have been made!\n",
      "9000  chuncks have been made!\n",
      "9500  chuncks have been made!\n",
      "Train Size: (9000, 96, 87, 1)\n",
      "Test  Size: (1000, 96, 87, 1)\n"
     ]
    }
   ],
   "source": [
    "i=0\n",
    "for dir in dir_array:\n",
    "    x_list = pre_processing([dir])\n",
    "    \n",
    "    x_list = np.expand_dims(np.array(x_list),-1)\n",
    "    \n",
    "    #shuffling set\n",
    "    id = np.random.permutation(len(x_list))\n",
    "    x_list = x_list[id]\n",
    "\n",
    "    #splitting to train and test 90/10\n",
    "    split_index = math.floor(len(x_list)*0.90)\n",
    "    x_train = x_list[:split_index]\n",
    "    x_test  = x_list[split_index:]\n",
    "\n",
    "    print(\"Train Size:\", x_train.shape)\n",
    "    print(\"Test  Size:\", x_test.shape)\n",
    "    \n",
    "    np.save('x_train_'+inst[i]+'.npy',x_train)\n",
    "    np.save('x_test_'+inst[i]+'.npy' ,x_test)\n",
    "    i = i + 1"
   ]
  },
  {
   "cell_type": "code",
   "execution_count": 111,
   "metadata": {},
   "outputs": [],
   "source": [
    "np.save('x_train_1gac-voi.npy',x_train)\n",
    "np.save('x_test_1gac-voi.npy' ,x_test)"
   ]
  }
 ],
 "metadata": {
  "kernelspec": {
   "display_name": "Python 3",
   "language": "python",
   "name": "python3"
  },
  "language_info": {
   "codemirror_mode": {
    "name": "ipython",
    "version": 3
   },
   "file_extension": ".py",
   "mimetype": "text/x-python",
   "name": "python",
   "nbconvert_exporter": "python",
   "pygments_lexer": "ipython3",
   "version": "3.7.3"
  }
 },
 "nbformat": 4,
 "nbformat_minor": 2
}
