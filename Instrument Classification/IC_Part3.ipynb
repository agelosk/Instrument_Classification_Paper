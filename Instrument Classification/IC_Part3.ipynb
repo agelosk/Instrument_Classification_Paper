{
 "cells": [
  {
   "cell_type": "markdown",
   "metadata": {},
   "source": [
    "# Instrument Classification - Part 3 : Track Prediction"
   ]
  },
  {
   "cell_type": "code",
   "execution_count": 1,
   "metadata": {},
   "outputs": [
    {
     "name": "stderr",
     "output_type": "stream",
     "text": [
      "Using TensorFlow backend.\n"
     ]
    }
   ],
   "source": [
    "import numpy as np\n",
    "import librosa, os, keras, time\n",
    "import matplotlib.pyplot as plt\n",
    "\n",
    "import datetime as dt\n",
    "import matplotlib.dates as mdates\n",
    "from matplotlib.collections import PolyCollection"
   ]
  },
  {
   "cell_type": "code",
   "execution_count": 5,
   "metadata": {},
   "outputs": [],
   "source": [
    "dir = './Instrument-Classification/test/'\n",
    "\n",
    "instr = ['pia','gac','gel','vio','voi']\n",
    "model = keras.models.load_model('ICmodel_PGGVV_CQT_20.h5')\n",
    "thr = [0.5,0.5,0.5,0.5,0.5]\n",
    "bool = [False,False,False,False,False]"
   ]
  },
  {
   "cell_type": "code",
   "execution_count": 6,
   "metadata": {},
   "outputs": [],
   "source": [
    "def crop_song(dir,songs):\n",
    "    predict = []\n",
    "    even = True\n",
    "    it = 0\n",
    "    for f in os.listdir(dir):\n",
    "        if (it == songs): break\n",
    "        if (even): \n",
    "            even = False \n",
    "            continue\n",
    "        else:\n",
    "            print(f)\n",
    "            even = True\n",
    "            wav,sr = librosa.load(dir+f,mono=True,sr=22050)\n",
    "            wav = wav / np.sqrt(np.mean(wav**2))\n",
    "            chunks = []\n",
    "            for i in range(2*(len(wav)//sr)-1):\n",
    "                chunks.append(wav[int((i/2)*sr):int((i+2)/2*sr)])\n",
    "            for ch in chunks:\n",
    "                mel = librosa.core.cqt(ch,n_bins=96,hop_length=256)\n",
    "                mel = librosa.core.amplitude_to_db(np.abs(mel))\n",
    "                predict.append(mel)\n",
    "        it = it + 1\n",
    "    return predict\n",
    "\n",
    "def overlap(prediction):\n",
    "    new_prediction = []\n",
    "    for i in range(len(prediction)//2+1):\n",
    "        y = []\n",
    "        for j in range(0,len(instr)):\n",
    "            y.append(0)\n",
    "        new_prediction.append(y)\n",
    "    \n",
    "    for i in range(0,len(prediction),2):\n",
    "        if (i==0):\n",
    "            new_prediction[i//2] = 0.5*prediction[i] + 0.5*prediction[i+1]\n",
    "        elif (i==len(prediction)-1):\n",
    "            new_prediction[i//2] = 0.5*prediction[i] + 0.5*prediction[i-1]\n",
    "        else:\n",
    "            new_prediction[i//2] = 0.25*prediction[i-1] + 0.5*prediction[i] + 0.25*prediction[i+1]\n",
    "    return new_prediction\n",
    "\n",
    "def smooth(prediction):\n",
    "    new_prediction = []\n",
    "    for i in range(len(prediction)):\n",
    "        y = []\n",
    "        for j in range(0,len(instr)):\n",
    "            y.append(0)\n",
    "        new_prediction.append(y)\n",
    "        \n",
    "    for i in range(len(instr)):\n",
    "        bool.append(False)\n",
    "\n",
    "    for i in range(len(prediction)):\n",
    "        for j in range(len(instr)):\n",
    "            if i==0:\n",
    "                if (prediction[i][j] < thr[j] and prediction[i+1][j] > thr[j]): new_prediction[i][j] = prediction[i+1][j]\n",
    "                elif (prediction[i][j] > thr[j] and prediction[i+1][j] < thr[j]): new_prediction[i][j] = prediction[i+1][j]\n",
    "                else: new_prediction[i][j] = prediction[i][j]\n",
    "            elif i==len(prediction)-1:\n",
    "                if (prediction[i][j] < thr[j] and prediction[i-1][j] > thr[j]): new_prediction[i][j] = prediction[i-1][j]\n",
    "                elif (prediction[i][j] > thr[j] and prediction[i-1][j] < thr[j]): new_prediction[i][j] = prediction[i-1][j]\n",
    "                else: new_prediction[i][j] = prediction[i][j]\n",
    "            else:\n",
    "                if (prediction[i][j]<thr[j] and prediction[i-1][j]>thr[j] and prediction[i+1][j]>thr[j]):\n",
    "                    new_prediction[i][j] = (prediction[i-1][j]+prediction[i+1][j])/2\n",
    "                elif (prediction[i][j]>thr[j] and prediction[i-1][j]<thr[j] and prediction[i+1][j]<thr[j]):\n",
    "                    new_prediction[i][j] = (prediction[i-1][j]+prediction[i+1][j])/2\n",
    "                else: new_prediction[i][j] = prediction[i][j]\n",
    "            if (new_prediction[i][j]> thr[j]): bool[j] = True\n",
    "    return [new_prediction,bool]"
   ]
  },
  {
   "cell_type": "code",
   "execution_count": 7,
   "metadata": {},
   "outputs": [
    {
     "name": "stdout",
     "output_type": "stream",
     "text": [
      "Official_Lyric_Video-youtube-0NbNZgWYkos-251.wav\n"
     ]
    }
   ],
   "source": [
    "chunks = crop_song(dir,1)\n",
    "new_chunks = np.expand_dims(np.array(chunks),-1)\n",
    "prediction = model.predict(new_chunks)\n",
    "\n",
    "over_prediction = overlap(prediction)\n",
    "[final_prediction,bool] = smooth(over_prediction)"
   ]
  },
  {
   "cell_type": "code",
   "execution_count": 8,
   "metadata": {
    "scrolled": false
   },
   "outputs": [
    {
     "name": "stdout",
     "output_type": "stream",
     "text": [
      "The track contains:  pia gac gel vio voi \n",
      "Begins in 5 seconds\n",
      "4.. 3.. 2.. 1.. Go!\n",
      "0-1 sec:  \n",
      "1-2 sec:  \n",
      "2-3 sec:  vio 0.86 voi 0.5 \n",
      "3-4 sec:  vio 0.86 voi 0.65 \n",
      "4-5 sec:  vio 0.98 voi 0.91 \n",
      "5-6 sec:  vio 0.97 voi 0.96 \n"
     ]
    },
    {
     "ename": "KeyboardInterrupt",
     "evalue": "",
     "output_type": "error",
     "traceback": [
      "\u001b[1;31m---------------------------------------------------------------------------\u001b[0m",
      "\u001b[1;31mKeyboardInterrupt\u001b[0m                         Traceback (most recent call last)",
      "\u001b[1;32m<ipython-input-8-835e9539a70b>\u001b[0m in \u001b[0;36m<module>\u001b[1;34m\u001b[0m\n\u001b[0;32m     15\u001b[0m \u001b[0mprint\u001b[0m\u001b[1;33m(\u001b[0m\u001b[1;34m\"Go!\"\u001b[0m\u001b[1;33m)\u001b[0m\u001b[1;33m\u001b[0m\u001b[1;33m\u001b[0m\u001b[0m\n\u001b[0;32m     16\u001b[0m \u001b[1;32mfor\u001b[0m \u001b[0mi\u001b[0m \u001b[1;32min\u001b[0m \u001b[0mrange\u001b[0m\u001b[1;33m(\u001b[0m\u001b[0mlen\u001b[0m\u001b[1;33m(\u001b[0m\u001b[0mfinal_prediction\u001b[0m\u001b[1;33m)\u001b[0m\u001b[1;33m)\u001b[0m\u001b[1;33m:\u001b[0m\u001b[1;33m\u001b[0m\u001b[1;33m\u001b[0m\u001b[0m\n\u001b[1;32m---> 17\u001b[1;33m     \u001b[0mtime\u001b[0m\u001b[1;33m.\u001b[0m\u001b[0msleep\u001b[0m\u001b[1;33m(\u001b[0m\u001b[1;36m1\u001b[0m\u001b[1;33m)\u001b[0m\u001b[1;33m\u001b[0m\u001b[1;33m\u001b[0m\u001b[0m\n\u001b[0m\u001b[0;32m     18\u001b[0m     \u001b[0mprint\u001b[0m\u001b[1;33m(\u001b[0m\u001b[0mstr\u001b[0m\u001b[1;33m(\u001b[0m\u001b[0mi\u001b[0m\u001b[1;33m)\u001b[0m\u001b[1;33m+\u001b[0m\u001b[1;34m\"-\"\u001b[0m\u001b[1;33m+\u001b[0m\u001b[0mstr\u001b[0m\u001b[1;33m(\u001b[0m\u001b[0mi\u001b[0m\u001b[1;33m+\u001b[0m\u001b[1;36m1\u001b[0m\u001b[1;33m)\u001b[0m\u001b[1;33m+\u001b[0m\u001b[1;34m\" sec: \"\u001b[0m\u001b[1;33m,\u001b[0m \u001b[0mend\u001b[0m \u001b[1;33m=\u001b[0m\u001b[1;34m\" \"\u001b[0m\u001b[1;33m)\u001b[0m\u001b[1;33m\u001b[0m\u001b[1;33m\u001b[0m\u001b[0m\n\u001b[0;32m     19\u001b[0m     \u001b[1;32mfor\u001b[0m \u001b[0mj\u001b[0m \u001b[1;32min\u001b[0m \u001b[0mrange\u001b[0m\u001b[1;33m(\u001b[0m\u001b[0mlen\u001b[0m\u001b[1;33m(\u001b[0m\u001b[0minstr\u001b[0m\u001b[1;33m)\u001b[0m\u001b[1;33m)\u001b[0m\u001b[1;33m:\u001b[0m\u001b[1;33m\u001b[0m\u001b[1;33m\u001b[0m\u001b[0m\n",
      "\u001b[1;31mKeyboardInterrupt\u001b[0m: "
     ]
    }
   ],
   "source": [
    "print(\"The track contains: \",end=\" \")\n",
    "for i in range(len(bool)):\n",
    "    if (bool[i]): print(instr[i],end=\" \")\n",
    "\n",
    "print(\"\\nBegins in 5 seconds\")\n",
    "time.sleep(1)\n",
    "print(\"4..\",end=\" \")\n",
    "time.sleep(1)\n",
    "print(\"3..\",end=\" \")\n",
    "time.sleep(1)\n",
    "print(\"2..\",end=\" \")\n",
    "time.sleep(1)\n",
    "print(\"1..\",end=\" \")\n",
    "time.sleep(1)\n",
    "print(\"Go!\")\n",
    "for i in range(len(final_prediction)):\n",
    "    time.sleep(1)  \n",
    "    print(str(i)+\"-\"+str(i+1)+\" sec: \", end =\" \")\n",
    "    for j in range(len(instr)):\n",
    "        if (final_prediction[i][j]>thr[j]): print(instr[j],round(final_prediction[i][j],2), end =\" \")\n",
    "    print(\"\")\n",
    "\n",
    "#t = np.arange(0,len(prediction))\n",
    "#plt.figure(figsize=(50,10))\n",
    "#plt.plot(t[:150],new_prediction[:150][0],new_prediction[:150][1])"
   ]
  },
  {
   "cell_type": "code",
   "execution_count": 81,
   "metadata": {},
   "outputs": [
    {
     "ename": "ValueError",
     "evalue": "day is out of range for month",
     "output_type": "error",
     "traceback": [
      "\u001b[1;31m---------------------------------------------------------------------------\u001b[0m",
      "\u001b[1;31mValueError\u001b[0m                                Traceback (most recent call last)",
      "\u001b[1;32m<ipython-input-81-56e2d5276563>\u001b[0m in \u001b[0;36m<module>\u001b[1;34m\u001b[0m\n\u001b[1;32m----> 1\u001b[1;33m data = [    (dt.datetime(2018, 7, 0, 0, 15), dt.datetime(2018, 7, 0, 0, 30), 'sleep'),\n\u001b[0m\u001b[0;32m      2\u001b[0m             \u001b[1;33m(\u001b[0m\u001b[0mdt\u001b[0m\u001b[1;33m.\u001b[0m\u001b[0mdatetime\u001b[0m\u001b[1;33m(\u001b[0m\u001b[1;36m2018\u001b[0m\u001b[1;33m,\u001b[0m \u001b[1;36m7\u001b[0m\u001b[1;33m,\u001b[0m \u001b[1;36m0\u001b[0m\u001b[1;33m,\u001b[0m \u001b[1;36m0\u001b[0m\u001b[1;33m,\u001b[0m \u001b[1;36m30\u001b[0m\u001b[1;33m)\u001b[0m\u001b[1;33m,\u001b[0m \u001b[0mdt\u001b[0m\u001b[1;33m.\u001b[0m\u001b[0mdatetime\u001b[0m\u001b[1;33m(\u001b[0m\u001b[1;36m2018\u001b[0m\u001b[1;33m,\u001b[0m \u001b[1;36m7\u001b[0m\u001b[1;33m,\u001b[0m \u001b[1;36m0\u001b[0m\u001b[1;33m,\u001b[0m \u001b[1;36m0\u001b[0m\u001b[1;33m,\u001b[0m \u001b[1;36m45\u001b[0m\u001b[1;33m)\u001b[0m\u001b[1;33m,\u001b[0m \u001b[1;34m'eat'\u001b[0m\u001b[1;33m)\u001b[0m\u001b[1;33m,\u001b[0m\u001b[1;33m\u001b[0m\u001b[1;33m\u001b[0m\u001b[0m\n\u001b[0;32m      3\u001b[0m             \u001b[1;33m(\u001b[0m\u001b[0mdt\u001b[0m\u001b[1;33m.\u001b[0m\u001b[0mdatetime\u001b[0m\u001b[1;33m(\u001b[0m\u001b[1;36m2018\u001b[0m\u001b[1;33m,\u001b[0m \u001b[1;36m7\u001b[0m\u001b[1;33m,\u001b[0m \u001b[1;36m0\u001b[0m\u001b[1;33m,\u001b[0m \u001b[1;36m0\u001b[0m\u001b[1;33m,\u001b[0m \u001b[1;36m45\u001b[0m\u001b[1;33m)\u001b[0m\u001b[1;33m,\u001b[0m \u001b[0mdt\u001b[0m\u001b[1;33m.\u001b[0m\u001b[0mdatetime\u001b[0m\u001b[1;33m(\u001b[0m\u001b[1;36m2018\u001b[0m\u001b[1;33m,\u001b[0m \u001b[1;36m7\u001b[0m\u001b[1;33m,\u001b[0m \u001b[1;36m0\u001b[0m\u001b[1;33m,\u001b[0m \u001b[1;36m1\u001b[0m\u001b[1;33m,\u001b[0m \u001b[1;36m0\u001b[0m\u001b[1;33m)\u001b[0m\u001b[1;33m,\u001b[0m \u001b[1;34m'work'\u001b[0m\u001b[1;33m)\u001b[0m\u001b[1;33m,\u001b[0m\u001b[1;33m\u001b[0m\u001b[1;33m\u001b[0m\u001b[0m\n\u001b[0;32m      4\u001b[0m             \u001b[1;33m(\u001b[0m\u001b[0mdt\u001b[0m\u001b[1;33m.\u001b[0m\u001b[0mdatetime\u001b[0m\u001b[1;33m(\u001b[0m\u001b[1;36m2018\u001b[0m\u001b[1;33m,\u001b[0m \u001b[1;36m7\u001b[0m\u001b[1;33m,\u001b[0m \u001b[1;36m0\u001b[0m\u001b[1;33m,\u001b[0m \u001b[1;36m0\u001b[0m\u001b[1;33m,\u001b[0m \u001b[1;36m0\u001b[0m\u001b[1;33m)\u001b[0m\u001b[1;33m,\u001b[0m \u001b[0mdt\u001b[0m\u001b[1;33m.\u001b[0m\u001b[0mdatetime\u001b[0m\u001b[1;33m(\u001b[0m\u001b[1;36m2018\u001b[0m\u001b[1;33m,\u001b[0m \u001b[1;36m7\u001b[0m\u001b[1;33m,\u001b[0m \u001b[1;36m0\u001b[0m\u001b[1;33m,\u001b[0m \u001b[1;36m1\u001b[0m\u001b[1;33m,\u001b[0m \u001b[1;36m30\u001b[0m\u001b[1;33m)\u001b[0m\u001b[1;33m,\u001b[0m \u001b[1;34m'sleep'\u001b[0m\u001b[1;33m)\u001b[0m\u001b[1;33m,\u001b[0m\u001b[1;33m\u001b[0m\u001b[1;33m\u001b[0m\u001b[0m\n\u001b[0;32m      5\u001b[0m             \u001b[1;33m(\u001b[0m\u001b[0mdt\u001b[0m\u001b[1;33m.\u001b[0m\u001b[0mdatetime\u001b[0m\u001b[1;33m(\u001b[0m\u001b[1;36m2018\u001b[0m\u001b[1;33m,\u001b[0m \u001b[1;36m7\u001b[0m\u001b[1;33m,\u001b[0m \u001b[1;36m0\u001b[0m\u001b[1;33m,\u001b[0m \u001b[1;36m0\u001b[0m\u001b[1;33m,\u001b[0m \u001b[1;36m15\u001b[0m\u001b[1;33m)\u001b[0m\u001b[1;33m,\u001b[0m \u001b[0mdt\u001b[0m\u001b[1;33m.\u001b[0m\u001b[0mdatetime\u001b[0m\u001b[1;33m(\u001b[0m\u001b[1;36m2018\u001b[0m\u001b[1;33m,\u001b[0m \u001b[1;36m7\u001b[0m\u001b[1;33m,\u001b[0m \u001b[1;36m0\u001b[0m\u001b[1;33m,\u001b[0m \u001b[1;36m1\u001b[0m\u001b[1;33m,\u001b[0m \u001b[1;36m30\u001b[0m\u001b[1;33m)\u001b[0m\u001b[1;33m,\u001b[0m \u001b[1;34m'eat'\u001b[0m\u001b[1;33m)\u001b[0m\u001b[1;33m,\u001b[0m\u001b[1;33m\u001b[0m\u001b[1;33m\u001b[0m\u001b[0m\n",
      "\u001b[1;31mValueError\u001b[0m: day is out of range for month"
     ]
    }
   ],
   "source": [
    "data = [    (dt.datetime(2018, 7, 0, 0, 15), dt.datetime(2018, 7, 0, 0, 30), 'sleep'),\n",
    "            (dt.datetime(2018, 7, 0, 0, 30), dt.datetime(2018, 7, 0, 0, 45), 'eat'),\n",
    "            (dt.datetime(2018, 7, 0, 0, 45), dt.datetime(2018, 7, 0, 1, 0), 'work'),\n",
    "            (dt.datetime(2018, 7, 0, 0, 0), dt.datetime(2018, 7, 0, 1, 30), 'sleep'),\n",
    "            (dt.datetime(2018, 7, 0, 0, 15), dt.datetime(2018, 7, 0, 1, 30), 'eat'), \n",
    "            (dt.datetime(2018, 7, 0, 0, 30), dt.datetime(2018, 7, 0, 1, 45), 'work')\n",
    "        ]\n",
    "\n",
    "cats = {\"sleep\" : 1, \"eat\" : 2, \"work\" : 3}\n",
    "colormapping = {\"sleep\" : \"C0\", \"eat\" : \"C1\", \"work\" : \"C2\"}\n",
    "\n",
    "verts = []\n",
    "colors = []\n",
    "for d in data:\n",
    "    v =  [(mdates.date2num(d[0]), cats[d[2]]-.4),\n",
    "          (mdates.date2num(d[0]), cats[d[2]]+.4),\n",
    "          (mdates.date2num(d[1]), cats[d[2]]+.4),\n",
    "          (mdates.date2num(d[1]), cats[d[2]]-.4),\n",
    "          (mdates.date2num(d[0]), cats[d[2]]-.4)]\n",
    "    verts.append(v)\n",
    "    colors.append(colormapping[d[2]])\n",
    "\n",
    "bars = PolyCollection(verts, facecolors=colors)\n",
    "\n",
    "fig, ax = plt.subplots()\n",
    "ax.add_collection(bars)\n",
    "ax.autoscale()\n",
    "loc = mdates.MinuteLocator(byminute=[0,15,30,45])\n",
    "ax.xaxis.set_major_locator(loc)\n",
    "ax.xaxis.set_major_formatter(mdates.AutoDateFormatter(loc))\n",
    "\n",
    "ax.set_yticks([1,2,3])\n",
    "ax.set_yticklabels([\"sleep\", \"eat\", \"work\"])\n",
    "plt.show()"
   ]
  }
 ],
 "metadata": {
  "kernelspec": {
   "display_name": "Python 3",
   "language": "python",
   "name": "python3"
  },
  "language_info": {
   "codemirror_mode": {
    "name": "ipython",
    "version": 3
   },
   "file_extension": ".py",
   "mimetype": "text/x-python",
   "name": "python",
   "nbconvert_exporter": "python",
   "pygments_lexer": "ipython3",
   "version": "3.7.3"
  }
 },
 "nbformat": 4,
 "nbformat_minor": 2
}
