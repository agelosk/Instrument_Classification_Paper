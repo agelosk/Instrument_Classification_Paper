{
 "cells": [
  {
   "cell_type": "markdown",
   "metadata": {},
   "source": [
    "# Instrument Classification - Part 2 : CNN"
   ]
  },
  {
   "cell_type": "code",
   "execution_count": 31,
   "metadata": {},
   "outputs": [],
   "source": [
    "import numpy as np\n",
    "import matplotlib.pyplot as plt\n",
    "import keras\n",
    "from keras.models import Sequential\n",
    "from keras.layers import Conv2D,MaxPooling2D,Dense,Dropout,Flatten,Activation,BatchNormalization"
   ]
  },
  {
   "cell_type": "code",
   "execution_count": null,
   "metadata": {},
   "outputs": [],
   "source": [
    "instr = ['pia','gac']\n",
    "mix = ['pia-gac']\n",
    "\n",
    "data_path = '../Data/CQT: 80_12_256/'"
   ]
  },
  {
   "cell_type": "code",
   "execution_count": 39,
   "metadata": {},
   "outputs": [],
   "source": [
    "def to_categorical(list):\n",
    "    list_final = []\n",
    "    for label in list:\n",
    "        list_final.append(label.split('-'))\n",
    "    temp_list = [[0]*len(instr)]*(len(list_final))\n",
    "    for i in range(len(list_final)):\n",
    "        x = [0]*len(instr)\n",
    "        x.insert(0,1)\n",
    "        x.pop()\n",
    "        for ins in instr:\n",
    "            if (ins in list_final[i]): \n",
    "                temp_list[i] = [sum(x) for x in zip(temp_list[i],x)]\n",
    "            x.insert(0,x.pop())\n",
    "    return temp_list\n",
    "\n",
    "def mix(solo_num,mix_num,):\n",
    "    first = True\n",
    "    y_train,y_test = [],[]\n",
    "    for ins in instr+mix:\n",
    "        x_train = np.load(data_path+ins+'/x_train_' + ins + '.npy')\n",
    "        x_test  = np.load('x_test_' + ins + '.npy')\n",
    "    \n",
    "        if ins in instr: limit = solo_num\n",
    "        else: limit = mix_num\n",
    "        \n",
    "        for i in range(int(0.9*limit)):\n",
    "            y_train.append(ins)\n",
    "        for i in range(int(0.1*limit)):\n",
    "            y_test.append(ins)\n",
    "        if (first):\n",
    "            first = False\n",
    "            x_train_final = x_train[0:int(0.9*limit)]\n",
    "            x_test_final = x_test[0:int(0.1*limit)]\n",
    "        else:\n",
    "            x_train_final = np.concatenate([x_train_final,x_train[0:int(0.9*limit)]],axis=0)\n",
    "            x_test_final = np.concatenate([x_test_final, x_test[0:int(0.1*limit)]],axis=0)\n",
    "\n",
    "    y_train = np.array(to_categorical(y_train))\n",
    "    y_test = np.array(to_categorical(y_test))\n",
    "\n",
    "    id1 = np.random.permutation(len(x_train_final))\n",
    "    id2 = np.random.permutation(len(x_test_final))\n",
    "    x_train,y_train = x_train_final[id1], y_train[id1]\n",
    "    x_test,y_test = x_test_final[id2], y_test[id2]\n",
    "    return (x_train,x_test,y_train,y_test)"
   ]
  },
  {
   "cell_type": "code",
   "execution_count": 59,
   "metadata": {},
   "outputs": [
    {
     "name": "stdout",
     "output_type": "stream",
     "text": [
      "Train Size: (22500, 80, 87, 1)\n",
      "Test  Size: (2500, 80, 87, 1)\n"
     ]
    }
   ],
   "source": [
    "solo_num = 10000 #between 0 and 10,000\n",
    "mix_num  = 8000 #between 0 and 10,000\n",
    "\n",
    "(x_train,x_test,y_train,y_test) = mix(solo_num,mix_num)\n",
    "\n",
    "print(\"Train Size:\", x_train.shape)\n",
    "print(\"Test  Size:\", x_test.shape)"
   ]
  },
  {
   "cell_type": "code",
   "execution_count": null,
   "metadata": {
    "scrolled": false
   },
   "outputs": [],
   "source": [
    "model = Sequential()\n",
    "\n",
    "model.add(Conv2D(64,kernel_size=(3,3),padding='same',strides=1,input_shape = x_train[0].shape))\n",
    "model.add(BatchNormalization())\n",
    "model.add(Activation('elu'))\n",
    "model.add(MaxPooling2D(pool_size=(2,2)))\n",
    "\n",
    "model.add(Conv2D(128,kernel_size=(3,3),padding='same',strides=1))\n",
    "model.add(BatchNormalization())\n",
    "model.add(Activation('elu'))\n",
    "model.add(MaxPooling2D(pool_size=(2,2)))\n",
    "\n",
    "model.add(Conv2D(256,kernel_size=(3,3),padding='same',strides=1))\n",
    "model.add(BatchNormalization())\n",
    "model.add(Activation('elu'))\n",
    "model.add(MaxPooling2D(pool_size=(2,2)))\n",
    "\n",
    "model.add(Conv2D(640,kernel_size=(3,3),padding='same',strides=1))\n",
    "model.add(BatchNormalization())\n",
    "model.add(Activation('elu'))\n",
    "model.add(MaxPooling2D(pool_size=(3,3)))\n",
    "\n",
    "model.add(Flatten())\n",
    "model.add(Dense(128))\n",
    "model.add(Activation('elu'))\n",
    "model.add(BatchNormalization())\n",
    "\n",
    "model.add(Dense(6))\n",
    "model.add(Activation('sigmoid'))\n",
    "\n",
    "model.summary()"
   ]
  },
  {
   "cell_type": "code",
   "execution_count": null,
   "metadata": {},
   "outputs": [],
   "source": [
    "#model = keras.models.load_model('ICmodel_2_mix_big_more.h5')\n",
    "\n",
    "sgd = keras.optimizers.SGD(lr=0.0001, momentum=0.9)\n",
    "model.compile(loss='categorical_crossentropy',optimizer=sgd,metrics=['accuracy'])\n",
    "history = model.fit(x_train,y_train,epochs=2,batch_size=32,validation_data=(x_test,y_test))\n",
    "\n",
    "plt.plot(history.history['acc'], label='Train Accuracy')\n",
    "plt.plot(history.history['val_acc'], label='Test Accuracy')\n",
    "plt.plot(history.history['loss'], label='Train Loss')\n",
    "plt.plot(history.history['val_loss'], label='Test Loss')\n",
    "plt.xlabel('Epochs')\n",
    "plt.ylabel('Accuracy-Loss')\n",
    "plt.legend()\n",
    "\n",
    "model.save('ICmodel_3sec.h5')"
   ]
  }
 ],
 "metadata": {
  "kernelspec": {
   "display_name": "Python 3",
   "language": "python",
   "name": "python3"
  },
  "language_info": {
   "codemirror_mode": {
    "name": "ipython",
    "version": 3
   },
   "file_extension": ".py",
   "mimetype": "text/x-python",
   "name": "python",
   "nbconvert_exporter": "python",
   "pygments_lexer": "ipython3",
   "version": "3.7.3"
  }
 },
 "nbformat": 4,
 "nbformat_minor": 2
}
