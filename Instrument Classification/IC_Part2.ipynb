{
 "cells": [
  {
   "cell_type": "markdown",
   "metadata": {},
   "source": [
    "# Instrument Classification - Part 2: Model Architecture & Training"
   ]
  },
  {
   "cell_type": "code",
   "execution_count": null,
   "metadata": {},
   "outputs": [],
   "source": [
    "import numpy as np, keras\n",
    "from keras.models import Sequential\n",
    "from keras.layers import Conv2D,MaxPooling2D,Dense,Dropout,Flatten,Activation,BatchNormalization,LeakyReLU\n",
    "\n",
    "instr = ['pia','gac','gel','vio','cel','sax','tru','cla','voi']\n",
    "mix   = ['pia-gac','pia-gel','pia-vio','pia-cel','pia-sax','pia-tru','pia-cla','pia-voi',\n",
    "         'gac-gel','gac-vio','gac-cel','gac-sax','gac-tru','gac-cla','gac-voi','gel-vio',\n",
    "         'gel-cel','gel-sax','gel-tru','gel-cla','gel-voi','vio-cel','vio-sax','vio-tru',\n",
    "         'vio-cla','vio-voi','cel-sax','cel-tru','cel-cla','cel-voi','sax-tru','sax-cla',\n",
    "         'sax-voi','tru-cla','tru-voi','cla-voi']\n",
    "#mix = []\n",
    "\n",
    "data_path = '/gpu-data2/chgar/IC/CQT_npys/'"
   ]
  },
  {
   "cell_type": "code",
   "execution_count": null,
   "metadata": {},
   "outputs": [],
   "source": [
    "def to_categorical(list):\n",
    "    list_final = []\n",
    "    for label in list: list_final.append(label.split('-'))\n",
    "    temp_list = [[0]*len(instr)]*(len(list_final))\n",
    "    for i in range(len(list_final)):\n",
    "        x = [0]*len(instr)\n",
    "        x.insert(0,1)\n",
    "        x.pop()\n",
    "        for ins in instr:\n",
    "            if (ins in list_final[i]): temp_list[i] = [sum(x) for x in zip(temp_list[i],x)]\n",
    "            x.insert(0,x.pop())\n",
    "    return temp_list\n",
    "\n",
    "def mixed(solo_num,mix_num):\n",
    "    y_train,y_test = [],[]\n",
    "    first = True\n",
    "    for ins in (instr+mix):\n",
    "        print(\"Loading:\",ins)\n",
    "        x_train = np.load(data_path+ins+'/x_train_' + ins + '.npy')\n",
    "        x_test  = np.load(data_path+ins+'/x_test_' + ins + '.npy')\n",
    "        if ins in instr: limit = solo_num\n",
    "        else: limit = mix_num\n",
    "\n",
    "        for i in range(int(0.9*limit)): y_train.append(ins)\n",
    "        for i in range(int(0.1*limit)): y_test.append(ins)\n",
    "        if first:\n",
    "            first = False\n",
    "            x_train_final = x_train[0:int(0.9*limit)]\n",
    "            x_test_final = x_test[0:int(0.1*limit)]\n",
    "        else:\n",
    "            x_train_final = np.concatenate([x_train_final,x_train[0:int(0.9*limit)]],axis=0)\n",
    "            x_test_final = np.concatenate([x_test_final, x_test[0:int(0.1*limit)]],axis=0)\n",
    "\n",
    "    y_train = np.array(to_categorical(y_train))\n",
    "    y_test = np.array(to_categorical(y_test))\n",
    "    id1 = np.random.permutation(len(x_train_final))\n",
    "    id2 = np.random.permutation(len(x_test_final))\n",
    "    x_train,y_train = x_train_final[id1], y_train[id1]\n",
    "    x_test,y_test = x_test_final[id2], y_test[id2]\n",
    "\n",
    "    return (x_train,x_test,y_train,y_test)"
   ]
  },
  {
   "cell_type": "code",
   "execution_count": null,
   "metadata": {},
   "outputs": [],
   "source": [
    "solo_num = 5000 #between 0 and 5000\n",
    "mix_num  = 5000 #between 0 and 5000\n",
    "(x_train,x_test,y_train,y_test) = mixed(solo_num,mix_num)\n",
    "print(\"Train Size:\", x_train.shape)\n",
    "print(\"Test  Size:\", x_test.shape)"
   ]
  },
  {
   "cell_type": "code",
   "execution_count": null,
   "metadata": {},
   "outputs": [],
   "source": [
    "model = Sequential()\n",
    "\n",
    "model.add(Conv2D(64,kernel_size=(3,3),padding='same',strides=1,input_shape = x_train[0].shape))\n",
    "#model.add(Conv2D(64,kernel_size=(3,3),padding='same',strides=1))\n",
    "model.add(BatchNormalization())\n",
    "model.add(LeakyReLU(alpha=0.3))\n",
    "model.add(MaxPooling2D(pool_size=(2,2)))\n",
    "model.add(Dropout(0.2))\n",
    "\n",
    "model.add(Conv2D(128,kernel_size=(3,3),padding='same',strides=1))\n",
    "#model.add(Conv2D(128,kernel_size=(3,3),padding='same',strides=1))\n",
    "model.add(BatchNormalization())\n",
    "model.add(LeakyReLU(alpha=0.3))\n",
    "model.add(MaxPooling2D(pool_size=(2,2)))\n",
    "model.add(Dropout(0.2))\n",
    "\n",
    "model.add(Conv2D(256,kernel_size=(3,3),padding='same',strides=1))\n",
    "#model.add(Conv2D(256,kernel_size=(3,3),padding='same',strides=1))\n",
    "model.add(BatchNormalization())\n",
    "model.add(LeakyReLU(alpha=0.3))\n",
    "model.add(MaxPooling2D(pool_size=(3,3)))\n",
    "model.add(Dropout(0.2))\n",
    "\n",
    "model.add(Conv2D(640,kernel_size=(3,3),padding='same',strides=1))\n",
    "#model.add(Conv2D(640,kernel_size=(3,3),padding='same',strides=1))\n",
    "model.add(BatchNormalization())\n",
    "model.add(LeakyReLU(alpha=0.3))\n",
    "model.add(MaxPooling2D(pool_size=(3,3)))\n",
    "model.add(Dropout(0.2))\n",
    "\n",
    "model.add(Flatten())\n",
    "model.add(Dense(1024))\n",
    "model.add(LeakyReLU(alpha=0.3))\n",
    "model.add(BatchNormalization())\n",
    "model.add(Dropout(0.5))\n",
    "\n",
    "model.add(Dense(9))\n",
    "model.add(Activation('sigmoid'))"
   ]
  },
  {
   "cell_type": "code",
   "execution_count": null,
   "metadata": {},
   "outputs": [],
   "source": [
    "model.compile(loss='binary_crossentropy',optimizer=keras.optimizers.Adam(lr=0.0001),metrics=['accuracy'])\n",
    "history = model.fit(x_train,y_train,epochs=10,batch_size=32,validation_data=(x_test,y_test))\n",
    "model.save('../Models/ICmodel_....h5')"
   ]
  }
 ],
 "metadata": {
  "kernelspec": {
   "display_name": "Python 3",
   "language": "python",
   "name": "python3"
  },
  "language_info": {
   "codemirror_mode": {
    "name": "ipython",
    "version": 3
   },
   "file_extension": ".py",
   "mimetype": "text/x-python",
   "name": "python",
   "nbconvert_exporter": "python",
   "pygments_lexer": "ipython3",
   "version": "3.7.3"
  }
 },
 "nbformat": 4,
 "nbformat_minor": 2
}
