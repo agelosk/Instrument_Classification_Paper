{
 "cells": [
  {
   "cell_type": "code",
   "execution_count": 10,
   "metadata": {
    "collapsed": true
   },
   "outputs": [
    {
     "name": "stdout",
     "output_type": "stream",
     "text": [
      "pia-gac\n",
      "pia-gel\n",
      "pia-vio\n",
      "pia-cel\n",
      "pia-sax\n",
      "pia-tru\n",
      "pia-cla\n",
      "pia-voi\n",
      "gac-gel\n",
      "gac-vio\n",
      "gac-cel\n",
      "gac-sax\n",
      "gac-tru\n",
      "gac-cla\n",
      "gac-voi\n",
      "gel-vio\n",
      "gel-cel\n",
      "gel-sax\n",
      "gel-tru\n",
      "gel-cla\n",
      "gel-voi\n",
      "vio-cel\n",
      "vio-sax\n",
      "vio-tru\n",
      "vio-cla\n",
      "vio-voi\n",
      "cel-sax\n",
      "cel-tru\n",
      "cel-cla\n",
      "cel-voi\n",
      "sax-tru\n",
      "sax-cla\n",
      "sax-voi\n",
      "tru-cla\n",
      "tru-voi\n",
      "cla-voi\n"
     ]
    }
   ],
   "source": [
    "from pydub import AudioSegment\n",
    "from random import shuffle\n",
    "import itertools, os\n",
    "\n",
    "pia = './Dataset/1.pia/'\n",
    "gac = './Dataset/2.gac/'\n",
    "gel = './Dataset/3.gel/'\n",
    "vio = './Dataset/4.vio/'\n",
    "cel = './Dataset/5.cel/'\n",
    "sax = './Dataset/6.sax/'\n",
    "tru = './Dataset/7.tru/'\n",
    "cla = './Dataset/8.cla/'\n",
    "voi = './Dataset/9.voi/'\n",
    "target = './Dataset/'\n",
    "\n",
    "for instrument1, instrument2 in list(itertools.combinations([pia,gac,gel,vio,cel,sax,tru,cla,voi],2)):\n",
    "    counter = 0\n",
    "    list1 = []\n",
    "    list2 = []\n",
    "    for path1 in os.listdir(instrument1): list1.append(instrument1+path1)\n",
    "    for path2 in os.listdir(instrument2): list2.append(instrument2+path2)\n",
    "    shuffle(list1)\n",
    "    shuffle(list2)\n",
    "    name = instrument1[-4:-1] + \"-\" + instrument2[-4:-1]\n",
    "    print(name)\n",
    "    if name not in ['pia-cel']: continue\n",
    "    for f1 in list1[:5000]:\n",
    "        sound1 = AudioSegment.from_file(f1)\n",
    "        for f2 in list2[:2]:\n",
    "            counter = counter + 1\n",
    "            sound2 = AudioSegment.from_file(f2)\n",
    "            mix = sound1.overlay(sound2)\n",
    "            mix.export(target + name + \"/\" + name + \"_\" + str(counter) + \".wav\", format=\"wav\")\n",
    "        list2 = list2[2:]"
   ]
  }
 ],
 "metadata": {
  "kernelspec": {
   "display_name": "Python 3",
   "language": "python",
   "name": "python3"
  },
  "language_info": {
   "codemirror_mode": {
    "name": "ipython",
    "version": 3
   },
   "file_extension": ".py",
   "mimetype": "text/x-python",
   "name": "python",
   "nbconvert_exporter": "python",
   "pygments_lexer": "ipython3",
   "version": "3.7.3"
  }
 },
 "nbformat": 4,
 "nbformat_minor": 2
}
