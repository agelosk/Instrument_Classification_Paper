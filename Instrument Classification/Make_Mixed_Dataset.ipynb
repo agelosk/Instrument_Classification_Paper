{
 "cells": [
  {
   "cell_type": "code",
   "execution_count": 18,
   "metadata": {
    "scrolled": false
   },
   "outputs": [
    {
     "name": "stdout",
     "output_type": "stream",
     "text": [
      "pia-cel\n",
      "gac-cel\n",
      "gel-cel\n",
      "vio-cel\n",
      "cel-voi\n"
     ]
    }
   ],
   "source": [
    "from pydub import AudioSegment\n",
    "from random import shuffle\n",
    "import itertools, os\n",
    "\n",
    "gac = './Instrument-Classification/IRMAS-TrainingData/2.gac/'\n",
    "pia = './Instrument-Classification/IRMAS-TrainingData/1.pia/'\n",
    "voi = './Instrument-Classification/IRMAS-TrainingData/9.voi/'\n",
    "gel = './Instrument-Classification/IRMAS-TrainingData/3.gel/'\n",
    "vio = './Instrument-Classification/IRMAS-TrainingData/4.vio/'\n",
    "cel = './Instrument-Classification/IRMAS-TrainingData/5.cel/'\n",
    "\n",
    "target = './Instrument-Classification/IRMAS-TrainingData/'\n",
    "\n",
    "for instrument1, instrument2 in list(itertools.combinations([pia,gac,gel,vio,cel,sax,voi], 2)):\n",
    "    counter, num = 0, 3\n",
    "    list1 = []\n",
    "    list2 = []\n",
    "    if (instrument1 != sax and instrument2!=sax): continue\n",
    "    for path1 in os.listdir(instrument1): list1.append(instrument1+path1)\n",
    "    for path2 in os.listdir(instrument2): list2.append(instrument2+path2)\n",
    "    shuffle(list1)\n",
    "    shuffle(list2)\n",
    "\n",
    "    name = instrument1[-4:-1] + \"-\" + instrument2[-4:-1]\n",
    "    print(name)\n",
    "    for f1 in list1[:5000]:\n",
    "        #shuffle(list2)\n",
    "        sound1 = AudioSegment.from_file(f1)\n",
    "        for f2 in list2[:2]:\n",
    "            counter = counter + 1\n",
    "            sound2 = AudioSegment.from_file(f2)\n",
    "            mix = sound1.overlay(sound2)\n",
    "            mix.export(target + name + \"/\" + name + \"_\" + str(counter) + \".wav\", format=\"wav\")\n",
    "        list2 = list2[2:]\n"
   ]
  },
  {
   "cell_type": "code",
   "execution_count": null,
   "metadata": {},
   "outputs": [],
   "source": []
  }
 ],
 "metadata": {
  "kernelspec": {
   "display_name": "Python 3",
   "language": "python",
   "name": "python3"
  },
  "language_info": {
   "codemirror_mode": {
    "name": "ipython",
    "version": 3
   },
   "file_extension": ".py",
   "mimetype": "text/x-python",
   "name": "python",
   "nbconvert_exporter": "python",
   "pygments_lexer": "ipython3",
   "version": "3.7.3"
  }
 },
 "nbformat": 4,
 "nbformat_minor": 2
}
