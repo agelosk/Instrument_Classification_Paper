{
 "cells": [
  {
   "cell_type": "markdown",
   "metadata": {},
   "source": [
    "# Instrument Classification - Part 2 : CNN"
   ]
  },
  {
   "cell_type": "code",
   "execution_count": 34,
   "metadata": {},
   "outputs": [],
   "source": [
    "import numpy as np\n",
    "import matplotlib.pyplot as plt\n",
    "import keras\n",
    "from keras.models import Sequential\n",
    "from keras.layers import Conv2D,MaxPooling2D,Dense,Dropout,Flatten,Activation,BatchNormalization"
   ]
  },
  {
   "cell_type": "code",
   "execution_count": 35,
   "metadata": {},
   "outputs": [],
   "source": [
    "x_train = np.load('x_train.npy')\n",
    "x_test  = np.load('x_test.npy')\n",
    "y_train = np.load('y_train.npy')\n",
    "y_test  = np.load('y_test.npy')"
   ]
  },
  {
   "cell_type": "code",
   "execution_count": 41,
   "metadata": {},
   "outputs": [
    {
     "name": "stdout",
     "output_type": "stream",
     "text": [
      "_________________________________________________________________\n",
      "Layer (type)                 Output Shape              Param #   \n",
      "=================================================================\n",
      "conv2d_49 (Conv2D)           (None, 96, 87, 64)        640       \n",
      "_________________________________________________________________\n",
      "batch_normalization_51 (Batc (None, 96, 87, 64)        256       \n",
      "_________________________________________________________________\n",
      "activation_62 (Activation)   (None, 96, 87, 64)        0         \n",
      "_________________________________________________________________\n",
      "max_pooling2d_49 (MaxPooling (None, 48, 43, 64)        0         \n",
      "_________________________________________________________________\n",
      "conv2d_50 (Conv2D)           (None, 48, 43, 128)       73856     \n",
      "_________________________________________________________________\n",
      "batch_normalization_52 (Batc (None, 48, 43, 128)       512       \n",
      "_________________________________________________________________\n",
      "activation_63 (Activation)   (None, 48, 43, 128)       0         \n",
      "_________________________________________________________________\n",
      "max_pooling2d_50 (MaxPooling (None, 24, 21, 128)       0         \n",
      "_________________________________________________________________\n",
      "conv2d_51 (Conv2D)           (None, 24, 21, 256)       295168    \n",
      "_________________________________________________________________\n",
      "batch_normalization_53 (Batc (None, 24, 21, 256)       1024      \n",
      "_________________________________________________________________\n",
      "activation_64 (Activation)   (None, 24, 21, 256)       0         \n",
      "_________________________________________________________________\n",
      "max_pooling2d_51 (MaxPooling (None, 8, 7, 256)         0         \n",
      "_________________________________________________________________\n",
      "conv2d_52 (Conv2D)           (None, 8, 7, 640)         1475200   \n",
      "_________________________________________________________________\n",
      "batch_normalization_54 (Batc (None, 8, 7, 640)         2560      \n",
      "_________________________________________________________________\n",
      "activation_65 (Activation)   (None, 8, 7, 640)         0         \n",
      "_________________________________________________________________\n",
      "max_pooling2d_52 (MaxPooling (None, 2, 2, 640)         0         \n",
      "_________________________________________________________________\n",
      "flatten_13 (Flatten)         (None, 2560)              0         \n",
      "_________________________________________________________________\n",
      "dense_25 (Dense)             (None, 128)               327808    \n",
      "_________________________________________________________________\n",
      "activation_66 (Activation)   (None, 128)               0         \n",
      "_________________________________________________________________\n",
      "batch_normalization_55 (Batc (None, 128)               512       \n",
      "_________________________________________________________________\n",
      "dense_26 (Dense)             (None, 2)                 258       \n",
      "_________________________________________________________________\n",
      "activation_67 (Activation)   (None, 2)                 0         \n",
      "=================================================================\n",
      "Total params: 2,177,794\n",
      "Trainable params: 2,175,362\n",
      "Non-trainable params: 2,432\n",
      "_________________________________________________________________\n"
     ]
    }
   ],
   "source": [
    "model = Sequential()\n",
    "\n",
    "model.add(Conv2D(64,kernel_size=(3,3),padding='same',strides=1,input_shape=x_train[0].shape))\n",
    "model.add(BatchNormalization())\n",
    "model.add(Activation('elu'))\n",
    "model.add(MaxPooling2D(pool_size=(2,2)))\n",
    "\n",
    "model.add(Conv2D(128,kernel_size=(3,3),padding='same',strides=1))\n",
    "model.add(BatchNormalization())\n",
    "model.add(Activation('elu'))\n",
    "model.add(MaxPooling2D(pool_size=(2,2)))\n",
    "\n",
    "model.add(Conv2D(256,kernel_size=(3,3),padding='same',strides=1))\n",
    "model.add(BatchNormalization())\n",
    "model.add(Activation('elu'))\n",
    "model.add(MaxPooling2D(pool_size=(3,3)))\n",
    "\n",
    "model.add(Conv2D(640,kernel_size=(3,3),padding='same',strides=1))\n",
    "model.add(BatchNormalization())\n",
    "model.add(Activation('elu'))\n",
    "model.add(MaxPooling2D(pool_size=(3,3)))\n",
    "\n",
    "model.add(Flatten())\n",
    "model.add(Dense(128))\n",
    "model.add(Activation('sigmoid'))\n",
    "model.add(BatchNormalization())\n",
    "model.add(Dense(2))\n",
    "model.add(Activation('softmax'))\n",
    "\n",
    "model.summary()"
   ]
  },
  {
   "cell_type": "code",
   "execution_count": 42,
   "metadata": {},
   "outputs": [
    {
     "name": "stdout",
     "output_type": "stream",
     "text": [
      "Train on 3666 samples, validate on 408 samples\n",
      "Epoch 1/10\n",
      "3666/3666 [==============================] - 709s 193ms/step - loss: 0.4966 - acc: 0.7624 - val_loss: 0.3400 - val_acc: 0.8431\n",
      "Epoch 2/10\n",
      "3666/3666 [==============================] - 718s 196ms/step - loss: 0.2764 - acc: 0.8860 - val_loss: 0.2834 - val_acc: 0.8627\n",
      "Epoch 3/10\n",
      "3666/3666 [==============================] - 689s 188ms/step - loss: 0.2174 - acc: 0.9193 - val_loss: 0.2594 - val_acc: 0.8873\n",
      "Epoch 4/10\n",
      "3666/3666 [==============================] - 787s 215ms/step - loss: 0.1549 - acc: 0.9520 - val_loss: 0.3008 - val_acc: 0.8603\n",
      "Epoch 5/10\n",
      "3666/3666 [==============================] - 652s 178ms/step - loss: 0.1221 - acc: 0.9697 - val_loss: 0.2231 - val_acc: 0.8971\n",
      "Epoch 6/10\n",
      "3666/3666 [==============================] - 628s 171ms/step - loss: 0.0962 - acc: 0.9812 - val_loss: 0.2082 - val_acc: 0.8971\n",
      "Epoch 7/10\n",
      "3666/3666 [==============================] - 634s 173ms/step - loss: 0.0810 - acc: 0.9861 - val_loss: 0.1853 - val_acc: 0.9191\n",
      "Epoch 8/10\n",
      "3666/3666 [==============================] - 632s 172ms/step - loss: 0.0602 - acc: 0.9954 - val_loss: 0.1818 - val_acc: 0.9167\n",
      "Epoch 9/10\n",
      "3666/3666 [==============================] - 621s 169ms/step - loss: 0.0508 - acc: 0.9975 - val_loss: 0.2104 - val_acc: 0.8971\n",
      "Epoch 10/10\n",
      "3666/3666 [==============================] - 619s 169ms/step - loss: 0.0526 - acc: 0.9937 - val_loss: 0.1893 - val_acc: 0.9191\n"
     ]
    },
    {
     "data": {
      "image/png": "[encoded data removed]",
      "text/plain": [
       "<Figure size 432x288 with 1 Axes>"
      ]
     },
     "metadata": {
      "needs_background": "light"
     },
     "output_type": "display_data"
    }
   ],
   "source": [
    "model.compile(loss='categorical_crossentropy',optimizer=keras.optimizers.SGD(lr=0.0001, momentum=0.9),metrics=['accuracy'])\n",
    "history = model.fit(x_train,y_train,epochs=10,batch_size=32,validation_data=(x_test,y_test))\n",
    "\n",
    "plt.plot(history.history['acc'], label='Train Accuracy')\n",
    "plt.plot(history.history['val_acc'], label='Test Accuracy')\n",
    "plt.plot(history.history['loss'], label='Train Loss')\n",
    "plt.plot(history.history['val_loss'], label='Test Loss')\n",
    "plt.xlabel('Epochs')\n",
    "plt.ylabel('Accuracy-Loss')\n",
    "plt.legend()\n",
    "\n",
    "model.save('ICmodel_new2.h5')"
   ]
  }
 ],
 "metadata": {
  "kernelspec": {
   "display_name": "Python 3",
   "language": "python",
   "name": "python3"
  },
  "language_info": {
   "codemirror_mode": {
    "name": "ipython",
    "version": 3
   },
   "file_extension": ".py",
   "mimetype": "text/x-python",
   "name": "python",
   "nbconvert_exporter": "python",
   "pygments_lexer": "ipython3",
   "version": "3.7.3"
  }
 },
 "nbformat": 4,
 "nbformat_minor": 2
}
