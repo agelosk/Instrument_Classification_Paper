{
 "cells": [
  {
   "cell_type": "markdown",
   "metadata": {},
   "source": [
    "# Instrument Classification - Part 2 : CNN"
   ]
  },
  {
   "cell_type": "code",
   "execution_count": 1,
   "metadata": {},
   "outputs": [
    {
     "name": "stderr",
     "output_type": "stream",
     "text": [
      "Using TensorFlow backend.\n"
     ]
    }
   ],
   "source": [
    "import numpy as np\n",
    "import matplotlib.pyplot as plt\n",
    "import keras\n",
    "from keras.models import Sequential\n",
    "from keras.layers import Conv2D,MaxPooling2D,Dense,Dropout,Flatten,Activation,BatchNormalization"
   ]
  },
  {
   "cell_type": "code",
   "execution_count": 2,
   "metadata": {},
   "outputs": [
    {
     "name": "stdout",
     "output_type": "stream",
     "text": [
      "Train Size: (3438, 96, 87, 1)\n",
      "Test  Size: (384, 96, 87, 1)\n"
     ]
    }
   ],
   "source": [
    "x_train = np.load('x_train.npy')\n",
    "x_test  = np.load('x_test.npy')\n",
    "y_train = np.load('y_train.npy')\n",
    "y_test  = np.load('y_test.npy')\n",
    "\n",
    "print(\"Train Size:\", x_train.shape)\n",
    "print(\"Test  Size:\", x_test.shape)"
   ]
  },
  {
   "cell_type": "code",
   "execution_count": 5,
   "metadata": {},
   "outputs": [
    {
     "name": "stdout",
     "output_type": "stream",
     "text": [
      "_________________________________________________________________\n",
      "Layer (type)                 Output Shape              Param #   \n",
      "=================================================================\n",
      "conv2d_5 (Conv2D)            (None, 94, 85, 64)        640       \n",
      "_________________________________________________________________\n",
      "batch_normalization_5 (Batch (None, 94, 85, 64)        256       \n",
      "_________________________________________________________________\n",
      "activation_6 (Activation)    (None, 94, 85, 64)        0         \n",
      "_________________________________________________________________\n",
      "max_pooling2d_5 (MaxPooling2 (None, 47, 42, 64)        0         \n",
      "_________________________________________________________________\n",
      "conv2d_6 (Conv2D)            (None, 45, 40, 128)       73856     \n",
      "_________________________________________________________________\n",
      "batch_normalization_6 (Batch (None, 45, 40, 128)       512       \n",
      "_________________________________________________________________\n",
      "activation_7 (Activation)    (None, 45, 40, 128)       0         \n",
      "_________________________________________________________________\n",
      "max_pooling2d_6 (MaxPooling2 (None, 22, 20, 128)       0         \n",
      "_________________________________________________________________\n",
      "conv2d_7 (Conv2D)            (None, 20, 18, 256)       295168    \n",
      "_________________________________________________________________\n",
      "batch_normalization_7 (Batch (None, 20, 18, 256)       1024      \n",
      "_________________________________________________________________\n",
      "activation_8 (Activation)    (None, 20, 18, 256)       0         \n",
      "_________________________________________________________________\n",
      "max_pooling2d_7 (MaxPooling2 (None, 6, 6, 256)         0         \n",
      "_________________________________________________________________\n",
      "conv2d_8 (Conv2D)            (None, 4, 4, 640)         1475200   \n",
      "_________________________________________________________________\n",
      "batch_normalization_8 (Batch (None, 4, 4, 640)         2560      \n",
      "_________________________________________________________________\n",
      "activation_9 (Activation)    (None, 4, 4, 640)         0         \n",
      "_________________________________________________________________\n",
      "max_pooling2d_8 (MaxPooling2 (None, 1, 1, 640)         0         \n",
      "_________________________________________________________________\n",
      "flatten_2 (Flatten)          (None, 640)               0         \n",
      "_________________________________________________________________\n",
      "dense_3 (Dense)              (None, 128)               82048     \n",
      "_________________________________________________________________\n",
      "activation_10 (Activation)   (None, 128)               0         \n",
      "_________________________________________________________________\n",
      "batch_normalization_9 (Batch (None, 128)               512       \n",
      "_________________________________________________________________\n",
      "dense_4 (Dense)              (None, 2)                 258       \n",
      "_________________________________________________________________\n",
      "activation_11 (Activation)   (None, 2)                 0         \n",
      "=================================================================\n",
      "Total params: 1,932,034\n",
      "Trainable params: 1,929,602\n",
      "Non-trainable params: 2,432\n",
      "_________________________________________________________________\n"
     ]
    }
   ],
   "source": [
    "model = Sequential()\n",
    "\n",
    "#model.add(Conv2D(64,kernel_size=(3,3),padding='same',strides=1,input_shape = x_train[0].shape))\n",
    "model.add(Conv2D(64,kernel_size=(3,3),input_shape = x_train[0].shape))\n",
    "model.add(BatchNormalization())\n",
    "model.add(Activation('elu'))\n",
    "model.add(MaxPooling2D(pool_size=(2,2)))\n",
    "#model.add(Dropout(0.15))\n",
    "\n",
    "#model.add(Conv2D(128,kernel_size=(3,3),padding='same',strides=1))\n",
    "model.add(Conv2D(128,kernel_size=(3,3)))\n",
    "model.add(BatchNormalization())\n",
    "model.add(Activation('elu'))\n",
    "model.add(MaxPooling2D(pool_size=(2,2)))\n",
    "#model.add(Dropout(0.15))\n",
    "\n",
    "#model.add(Conv2D(256,kernel_size=(3,3),padding='same',strides=1))\n",
    "model.add(Conv2D(256,kernel_size=(3,3)))\n",
    "model.add(BatchNormalization())\n",
    "model.add(Activation('elu'))\n",
    "model.add(MaxPooling2D(pool_size=(3,3)))\n",
    "#model.add(Dropout(0.15))\n",
    "\n",
    "#model.add(Conv2D(640,kernel_size=(3,3),padding='same',strides=1))\n",
    "model.add(Conv2D(640,kernel_size=(3,3)))\n",
    "model.add(BatchNormalization())\n",
    "model.add(Activation('elu'))\n",
    "model.add(MaxPooling2D(pool_size=(3,3)))\n",
    "#model.add(Dropout(0.15))\n",
    "\n",
    "model.add(Flatten())\n",
    "model.add(Dense(128))\n",
    "model.add(Activation('relu'))\n",
    "model.add(BatchNormalization())\n",
    "#model.add(Dropout(0.5))\n",
    "model.add(Dense(2))\n",
    "model.add(Activation('softmax'))\n",
    "\n",
    "model.summary()"
   ]
  },
  {
   "cell_type": "code",
   "execution_count": 6,
   "metadata": {},
   "outputs": [
    {
     "name": "stdout",
     "output_type": "stream",
     "text": [
      "Train on 3438 samples, validate on 384 samples\n",
      "Epoch 1/10\n",
      "3438/3438 [==============================] - 264s 77ms/step - loss: 0.4599 - acc: 0.7973 - val_loss: 0.3973 - val_acc: 0.8229\n",
      "Epoch 2/10\n",
      "3438/3438 [==============================] - 273s 80ms/step - loss: 0.3033 - acc: 0.8732 - val_loss: 0.4381 - val_acc: 0.8307\n",
      "Epoch 3/10\n",
      "3438/3438 [==============================] - 269s 78ms/step - loss: 0.2419 - acc: 0.9026 - val_loss: 0.7686 - val_acc: 0.7240\n",
      "Epoch 4/10\n",
      "3438/3438 [==============================] - 261s 76ms/step - loss: 0.2012 - acc: 0.9180 - val_loss: 1.0963 - val_acc: 0.6849\n",
      "Epoch 5/10\n",
      "3438/3438 [==============================] - 293s 85ms/step - loss: 0.1433 - acc: 0.9453 - val_loss: 0.3917 - val_acc: 0.8385\n",
      "Epoch 6/10\n",
      "3438/3438 [==============================] - 297s 86ms/step - loss: 0.1306 - acc: 0.9497 - val_loss: 3.3110 - val_acc: 0.5339\n",
      "Epoch 7/10\n",
      "3438/3438 [==============================] - 286s 83ms/step - loss: 0.0857 - acc: 0.9663 - val_loss: 0.7068 - val_acc: 0.7682\n",
      "Epoch 8/10\n",
      "3438/3438 [==============================] - 308s 89ms/step - loss: 0.1025 - acc: 0.9572 - val_loss: 1.8422 - val_acc: 0.6146\n",
      "Epoch 9/10\n",
      "3438/3438 [==============================] - 285s 83ms/step - loss: 0.0712 - acc: 0.9712 - val_loss: 0.5691 - val_acc: 0.8646\n",
      "Epoch 10/10\n",
      "3438/3438 [==============================] - 291s 85ms/step - loss: 0.0467 - acc: 0.9837 - val_loss: 0.8146 - val_acc: 0.8203\n"
     ]
    },
    {
     "data": {
      "image/png": "[encoded data removed]",
      "text/plain": [
       "<Figure size 432x288 with 1 Axes>"
      ]
     },
     "metadata": {
      "needs_background": "light"
     },
     "output_type": "display_data"
    }
   ],
   "source": [
    "#sgd = keras.optimizers.SGD(lr=0.0001, momentum=0.9)\n",
    "model.compile(loss='categorical_crossentropy',optimizer='Adam',metrics=['accuracy'])\n",
    "history = model.fit(x_train,y_train,epochs=10,batch_size=32,validation_data=(x_test,y_test))\n",
    "\n",
    "plt.plot(history.history['acc'], label='Train Accuracy')\n",
    "plt.plot(history.history['val_acc'], label='Test Accuracy')\n",
    "plt.plot(history.history['loss'], label='Train Loss')\n",
    "plt.plot(history.history['val_loss'], label='Test Loss')\n",
    "plt.xlabel('Epochs')\n",
    "plt.ylabel('Accuracy-Loss')\n",
    "plt.legend()\n",
    "\n",
    "model.save('ICmodel2.h5')"
   ]
  }
 ],
 "metadata": {
  "kernelspec": {
   "display_name": "Python 3",
   "language": "python",
   "name": "python3"
  },
  "language_info": {
   "codemirror_mode": {
    "name": "ipython",
    "version": 3
   },
   "file_extension": ".py",
   "mimetype": "text/x-python",
   "name": "python",
   "nbconvert_exporter": "python",
   "pygments_lexer": "ipython3",
   "version": "3.7.3"
  }
 },
 "nbformat": 4,
 "nbformat_minor": 2
}
