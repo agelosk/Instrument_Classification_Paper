{
 "cells": [
  {
   "cell_type": "code",
   "execution_count": 1,
   "metadata": {},
   "outputs": [],
   "source": [
    "import numpy as np\n",
    "import librosa, os\n",
    "from pydub.utils import make_chunks\n",
    "from scipy.io import wavfile\n",
    "\n",
    "pia = './IRMAS/TrainingData/pia/'\n",
    "gac = './IRMAS/TrainingData/gac/'\n",
    "gel = './IRMAS/TrainingData/gel/'\n",
    "vio = './IRMAS/TrainingData/vio/'\n",
    "voi = './IRMAS/TrainingData/voi/'\n",
    "\n",
    "for instrument in [pia,gac,gel,vio,voi]:\n",
    "    counter = 1\n",
    "    for path in os.listdir(instrument):\n",
    "        c = 0\n",
    "        wav,sr = librosa.load(instrument+path,mono=True,sr=22050)\n",
    "        chunks = make_chunks(wav,sr)\n",
    "        for wav in chunks:\n",
    "            if c==0: length = len(wav)\n",
    "            if len(wav)!=length: break\n",
    "            wavfile.write(instrument + '-reduced/' + str(counter) + \"_\" + str(c) + \"_\" + instrument[-4:-2] + \".wav\",sr,wav)\n",
    "            c = c + 1\n",
    "        counter = counter + 1"
   ]
  }
 ],
 "metadata": {
  "kernelspec": {
   "display_name": "Python 3",
   "language": "python",
   "name": "python3"
  },
  "language_info": {
   "codemirror_mode": {
    "name": "ipython",
    "version": 3
   },
   "file_extension": ".py",
   "mimetype": "text/x-python",
   "name": "python",
   "nbconvert_exporter": "python",
   "pygments_lexer": "ipython3",
   "version": "3.7.3"
  }
 },
 "nbformat": 4,
 "nbformat_minor": 2
}
