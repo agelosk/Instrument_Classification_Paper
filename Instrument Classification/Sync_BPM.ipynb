{
 "cells": [
  {
   "cell_type": "markdown",
   "metadata": {},
   "source": [
    "# Sync .wav files by BPM"
   ]
  },
  {
   "cell_type": "code",
   "execution_count": 2,
   "metadata": {},
   "outputs": [
    {
     "name": "stdout",
     "output_type": "stream",
     "text": [
      "(02) dont kill the whale-1.wav - Initial BPM: 89.103\n",
      "\n",
      "(02) dont kill the whale-11.wav - Initial BPM: 92.285\n",
      "(02) dont kill the whale-11.wav - Custom  BPM: 89.103\n",
      "\n"
     ]
    }
   ],
   "source": [
    "import librosa, os, sys, numpy as np\n",
    "from pydub import AudioSegment\n",
    "\n",
    "d = './IRMAS/TestingData/Part1/'\n",
    "c = 0\n",
    "b = [[],[]]\n",
    "sound = [[],[]]\n",
    "\n",
    "for f in os.listdir(d)[:4]:\n",
    "    if f[-3:] == 'txt': continue\n",
    "    wav,sr = librosa.load(d+f,mono=True,sr=22050)\n",
    "    \n",
    "    # check and save initial BPM\n",
    "    bpm, beats = librosa.beat.beat_track(y=wav, sr=sr)\n",
    "    print(f,\"- Initial BPM:\",round(bpm,3))\n",
    "    b[c] = bpm\n",
    "    y_shifted6 = librosa.effects.pitch_shift(wav,sr,n_steps=-6)\n",
    "    librosa.output.write_wav('2.wav',y_shifted6,sr)\n",
    "    \n",
    "    # for the second file adjust BPM\n",
    "    if c%2==1:\n",
    "        wav = librosa.effects.time_stretch(wav, b[c-1]/b[c])\n",
    "        bpm, beats = librosa.beat.beat_track(y=wav, sr=sr)\n",
    "        print(f,\"- Custom  BPM:\",round(bpm,3))\n",
    "        if bpm==b[c-1]:\n",
    "            path = \"./\"+f+\".wav\"\n",
    "            librosa.output.write_wav(path,wav,sr)\n",
    "            sound[c] = AudioSegment.from_file(path)\n",
    "        else: print(\"Error\")  \n",
    "    else: sound[c] = AudioSegment.from_file(d+f)\n",
    "    print()\n",
    "    c = c+1\n"
   ]
  },
  {
   "cell_type": "code",
   "execution_count": 3,
   "metadata": {},
   "outputs": [
    {
     "name": "stdout",
     "output_type": "stream",
     "text": [
      "89.103\n"
     ]
    }
   ],
   "source": [
    "snd = sound[0].overlay(sound[1])\n",
    "snd.export(\"out.wav\", format=\"wav\")\n",
    "wav,sr = librosa.load(\"out.wav\",mono=True,sr=22050)\n",
    "bpm, beats = librosa.beat.beat_track(y=wav, sr=sr)\n",
    "print(round(bpm,3))"
   ]
  }
 ],
 "metadata": {
  "kernelspec": {
   "display_name": "Python 3",
   "language": "python",
   "name": "python3"
  },
  "language_info": {
   "codemirror_mode": {
    "name": "ipython",
    "version": 3
   },
   "file_extension": ".py",
   "mimetype": "text/x-python",
   "name": "python",
   "nbconvert_exporter": "python",
   "pygments_lexer": "ipython3",
   "version": "3.7.3"
  }
 },
 "nbformat": 4,
 "nbformat_minor": 2
}
