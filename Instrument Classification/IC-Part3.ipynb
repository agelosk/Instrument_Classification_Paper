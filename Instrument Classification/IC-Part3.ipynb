{
 "cells": [
  {
   "cell_type": "markdown",
   "metadata": {},
   "source": [
    "# Instrument Classification - Part 3 : Track Prediction"
   ]
  },
  {
   "cell_type": "code",
   "execution_count": null,
   "metadata": {},
   "outputs": [],
   "source": [
    "import numpy as np\n",
    "import librosa\n",
    "import os\n",
    "import keras"
   ]
  },
  {
   "cell_type": "code",
   "execution_count": null,
   "metadata": {},
   "outputs": [],
   "source": [
    "def crop_song(dir,songs):\n",
    "    predict = [] #this must be array of lists for songs>1\n",
    "    even = True\n",
    "    it = 0\n",
    "    for f in os.listdir(dir):\n",
    "        if (it == songs):\n",
    "            break\n",
    "        if (even): \n",
    "            even = False \n",
    "            continue\n",
    "        else:\n",
    "            even = True\n",
    "            wav,sr = librosa.load(dir+f,mono=True)\n",
    "            for i in range(0,int(len(wav)/sr)):\n",
    "                crop_wav = wav[i*sr:(i+1)*sr]\n",
    "                crop_wav = crop_wav / np.sqrt(np.mean(crop_wav**2))\n",
    "                mel = librosa.feature.melspectrogram(crop_wav,n_mels=96,n_fft=1024,hop_length=256)\n",
    "                predict.append(mel)\n",
    "            crop_wav = wav[(i+1)*sr:]\n",
    "            crop_wav = crop_wav / np.sqrt(np.mean(crop_wav**2))\n",
    "            mel = librosa.feature.melspectrogram(crop_wav,n_mels=96,n_fft=1024,hop_length=256)\n",
    "            predict.append(mel)\n",
    "        it = it+1\n",
    "    return predict\n",
    "\n",
    "def extract_instruments_from_prediction(prediction):\n",
    "    print()"
   ]
  },
  {
   "cell_type": "code",
   "execution_count": null,
   "metadata": {},
   "outputs": [],
   "source": [
    "dir = './Desktop/Instrument-Classification/IRMAS-TestingData-Part1/Part1/'\n",
    "\n",
    "songs = 1\n",
    "predict = crop_song(dir,songs)\n",
    "\n",
    "predict_new = np.expand_dims(np.array(predict[:-1]),-1) \n",
    "#last one doesn't have the same length so we can't make an array\n",
    "#easily solvable by padding the last one with zeros"
   ]
  },
  {
   "cell_type": "code",
   "execution_count": null,
   "metadata": {},
   "outputs": [],
   "source": [
    "model = keras.models.load_model('ICmodel.h5')\n",
    "instr = []\n",
    "for i in range(0,len(predict_new)):\n",
    "    instr.append([])\n",
    "    prediction = model.predict(predict_new[i:i+1])\n",
    "    instr[i].append(extract_instruments_from_prediction(prediction))\n",
    "\n",
    "#printed example:\n",
    "# 0-1s : guitar,piano\n",
    "# 1-2s : guitar,piano\n",
    "# 2-3s : guitar\n",
    "# 3-4s : guitar,voice\n",
    "# 4-5s : voice\n",
    "# 5-end: piano"
   ]
  },
  {
   "cell_type": "code",
   "execution_count": null,
   "metadata": {},
   "outputs": [],
   "source": []
  }
 ],
 "metadata": {
  "kernelspec": {
   "display_name": "Python 3",
   "language": "python",
   "name": "python3"
  },
  "language_info": {
   "codemirror_mode": {
    "name": "ipython",
    "version": 3
   },
   "file_extension": ".py",
   "mimetype": "text/x-python",
   "name": "python",
   "nbconvert_exporter": "python",
   "pygments_lexer": "ipython3",
   "version": "3.7.3"
  }
 },
 "nbformat": 4,
 "nbformat_minor": 2
}
