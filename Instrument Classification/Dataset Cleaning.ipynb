{
 "cells": [
  {
   "cell_type": "markdown",
   "metadata": {},
   "source": [
    "# Dataset Cleaning"
   ]
  },
  {
   "cell_type": "code",
   "execution_count": 33,
   "metadata": {},
   "outputs": [],
   "source": [
    "import numpy as np, librosa, os, keras\n",
    "from pydub.utils import make_chunks\n",
    "\n",
    "model = keras.models.load_model('ICmodel_full_5_10.h5')\n",
    "instr = ['pia','gac','gel','vio','cel','sax','tru','cla','voi']"
   ]
  },
  {
   "cell_type": "code",
   "execution_count": 47,
   "metadata": {},
   "outputs": [
    {
     "data": {
      "text/plain": [
       "\"\\nc = 0\\nfor f in os.listdir(dir):\\n    predict = []\\n    wav,sr = librosa.load(dir+f,mono=True,sr=22050)\\n    wav = wav / np.sqrt(np.mean(wav**2))\\n    chunks = make_chunks(wav,sr)\\n    for ch in chunks:\\n        cqt = librosa.core.cqt(ch,n_bins=96,bins_per_octave=12,hop_length=256)\\n        cqt = librosa.core.amplitude_to_db(np.abs(cqt))\\n        predict.append(cqt)\\n    pred = np.expand_dims(np.array(predict),-1)\\n    pred = model.predict(pred)\\n    pred = np.round(pred.ravel(),2)\\n    if pred[8]<0.81:\\n        c = c + 1\\n        os.remove(dir+f)\\n        print(c,end='\\r')\\nprint(c)\\n\""
      ]
     },
     "execution_count": 47,
     "metadata": {},
     "output_type": "execute_result"
    }
   ],
   "source": [
    "dir = 'D:/IC_Data/Dataset/7.tru/'\n",
    "c = 0\n",
    "for f in os.listdir(dir):\n",
    "    predict = []\n",
    "    wav,sr = librosa.load(dir+f,mono=True,sr=22050)\n",
    "    wav = wav / np.sqrt(np.mean(wav**2))\n",
    "    chunks = make_chunks(wav,sr)\n",
    "    for ch in chunks:\n",
    "        cqt = librosa.core.cqt(ch,n_bins=96,bins_per_octave=12,hop_length=256)\n",
    "        cqt = librosa.core.amplitude_to_db(np.abs(cqt))\n",
    "        predict.append(cqt)\n",
    "    pred = np.expand_dims(np.array(predict),-1)\n",
    "    pred = model.predict(pred)\n",
    "    pred = np.round(pred.ravel(),2)\n",
    "    if pred[8]<0.81:\n",
    "        c = c + 1\n",
    "        os.remove(dir+f)\n",
    "        print(c,end='\\r')\n",
    "print(c)"
   ]
  }
 ],
 "metadata": {
  "kernelspec": {
   "display_name": "Python 3",
   "language": "python",
   "name": "python3"
  },
  "language_info": {
   "codemirror_mode": {
    "name": "ipython",
    "version": 3
   },
   "file_extension": ".py",
   "mimetype": "text/x-python",
   "name": "python",
   "nbconvert_exporter": "python",
   "pygments_lexer": "ipython3",
   "version": "3.7.3"
  }
 },
 "nbformat": 4,
 "nbformat_minor": 2
}
