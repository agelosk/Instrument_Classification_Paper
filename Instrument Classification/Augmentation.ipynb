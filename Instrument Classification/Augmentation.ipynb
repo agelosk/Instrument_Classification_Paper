{
 "cells": [
  {
   "cell_type": "code",
   "execution_count": 4,
   "metadata": {},
   "outputs": [],
   "source": [
    "import librosa\n",
    "import os"
   ]
  },
  {
   "cell_type": "code",
   "execution_count": 5,
   "metadata": {},
   "outputs": [],
   "source": [
    "dir = './Instrument-Classification/IRMAS-TrainingData/aug/'\n",
    "new_dir = './Instrument-Classification/IRMAS-TrainingData/aug/'"
   ]
  },
  {
   "cell_type": "code",
   "execution_count": 6,
   "metadata": {},
   "outputs": [],
   "source": [
    "c = 1\n",
    "for path in os.listdir(dir):\n",
    "    wav,sr = librosa.load(dir+path,mono=True,sr=22050)\n",
    "    y_shifted1 = librosa.effects.pitch_shift(wav,sr,n_steps=2)\n",
    "    y_shifted2 = librosa.effects.pitch_shift(wav,sr,n_steps=4)\n",
    "    y_shifted3 = librosa.effects.pitch_shift(wav,sr,n_steps=6)\n",
    "    y_shifted4 = librosa.effects.pitch_shift(wav,sr,n_steps=-2)\n",
    "    y_shifted5 = librosa.effects.pitch_shift(wav,sr,n_steps=-4)\n",
    "    y_shifted6 = librosa.effects.pitch_shift(wav,sr,n_steps=-6)\n",
    "    librosa.output.write_wav(str(c)+'2.wav',y_shifted1,sr)\n",
    "    librosa.output.write_wav(str(c)+'4.wav',y_shifted2,sr)\n",
    "    librosa.output.write_wav(str(c)+'6.wav',y_shifted3,sr)\n",
    "    librosa.output.write_wav(str(c)+'m2.wav',y_shifted4,sr)\n",
    "    librosa.output.write_wav(str(c)+'m4.wav',y_shifted5,sr)\n",
    "    librosa.output.write_wav(str(c)+'m6.wav',y_shifted6,sr)\n",
    "    c = c + 1"
   ]
  },
  {
   "cell_type": "code",
   "execution_count": null,
   "metadata": {},
   "outputs": [],
   "source": [
    "for path in os.listdir(dir):\n",
    "    wav,sr = librosa.load(dir+path,mono=True,sr=22050)\n",
    "    y_shifted1 = librosa.effects.pitch_shift(wav,sr,n_steps=8)\n",
    "    librosa.output.write_wav('yolo.wav',y_shifted1,sr)\n",
    "    break"
   ]
  },
  {
   "cell_type": "code",
   "execution_count": null,
   "metadata": {},
   "outputs": [],
   "source": []
  }
 ],
 "metadata": {
  "kernelspec": {
   "display_name": "Python 3",
   "language": "python",
   "name": "python3"
  },
  "language_info": {
   "codemirror_mode": {
    "name": "ipython",
    "version": 3
   },
   "file_extension": ".py",
   "mimetype": "text/x-python",
   "name": "python",
   "nbconvert_exporter": "python",
   "pygments_lexer": "ipython3",
   "version": "3.7.3"
  }
 },
 "nbformat": 4,
 "nbformat_minor": 2
}
