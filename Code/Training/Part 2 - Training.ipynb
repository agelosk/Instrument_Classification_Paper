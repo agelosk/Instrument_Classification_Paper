{
 "cells": [
  {
   "cell_type": "code",
   "execution_count": null,
   "metadata": {},
   "outputs": [],
   "source": [
    "import numpy as np, keras, os\n",
    "from keras.models import Sequential,Model\n",
    "from keras.layers import Conv2D,MaxPooling2D,Dense,Dropout,Flatten,Activation,BatchNormalization,LeakyReLU,ZeroPadding2D,Input\n",
    "from keras.callbacks import EarlyStopping, ModelCheckpoint, ReduceLROnPlateau"
   ]
  },
  {
   "cell_type": "code",
   "execution_count": null,
   "metadata": {},
   "outputs": [],
   "source": [
    "data = # where the cqt's are\n",
    "models = # where to save the .hdf5\n",
    "key = # which cqt to use\n",
    "\n",
    "FOLDS = 5       # same as part 1\n",
    "simple = False  # True to use the Gururani architecture"
   ]
  },
  {
   "cell_type": "code",
   "execution_count": null,
   "metadata": {},
   "outputs": [],
   "source": [
    "def initialize_model(simple):\n",
    "    \n",
    "    model = Sequential()\n",
    "\n",
    "    model.add(Conv2D(64,kernel_size=(3,3),padding='same',strides=1,input_shape = x_train[0].shape))\n",
    "    if not simple: model.add(Conv2D(64,kernel_size=(3,3),padding='same',strides=1))\n",
    "    model.add(BatchNormalization())\n",
    "    if simple: model.add(Activation(\"elu\"))\n",
    "    else: model.add(LeakyReLU(alpha=0.3))\n",
    "    model.add(MaxPooling2D(pool_size=(2,2)))\n",
    "    model.add(Dropout(0.2))\n",
    "\n",
    "    model.add(Conv2D(128,kernel_size=(3,3),padding='same',strides=1))\n",
    "    if not simple: model.add(Conv2D(128,kernel_size=(3,3),padding='same',strides=1))\n",
    "    model.add(BatchNormalization())\n",
    "    if simple: model.add(Activation(\"elu\"))\n",
    "    else: model.add(LeakyReLU(alpha=0.3))\n",
    "    model.add(MaxPooling2D(pool_size=(2,2)))\n",
    "    model.add(Dropout(0.2))\n",
    "\n",
    "    model.add(Conv2D(256,kernel_size=(3,3),padding='same',strides=1))\n",
    "    if not simple: model.add(Conv2D(256,kernel_size=(3,3),padding='same',strides=1))\n",
    "    model.add(BatchNormalization())\n",
    "    if simple: model.add(Activation(\"elu\"))\n",
    "    else: model.add(LeakyReLU(alpha=0.3))\n",
    "    model.add(MaxPooling2D(pool_size=(3,3)))\n",
    "    model.add(Dropout(0.2))\n",
    "\n",
    "    model.add(Conv2D(640,kernel_size=(3,3),padding='same',strides=1))\n",
    "    if not simple: model.add(Conv2D(640,kernel_size=(3,3),padding='same',strides=1))\n",
    "    model.add(BatchNormalization())\n",
    "    if simple: model.add(Activation(\"elu\"))\n",
    "    else: model.add(LeakyReLU(alpha=0.3))\n",
    "    model.add(MaxPooling2D(pool_size=(3,3)))\n",
    "    model.add(Dropout(0.2))\n",
    "\n",
    "    model.add(Flatten())\n",
    "    model.add(Dense(1024))\n",
    "    if simple: model.add(Activation(\"elu\"))\n",
    "    else: model.add(LeakyReLU(alpha=0.3))\n",
    "    model.add(BatchNormalization())\n",
    "    model.add(Dropout(0.5))\n",
    "\n",
    "    model.add(Dense(11))\n",
    "    model.add(Activation('sigmoid'))\n",
    "    \n",
    "    return model\n",
    "\n",
    "def han_model():\n",
    "    \n",
    "    x = Input(shape=(96,87,1))\n",
    "    z = x\n",
    "    \n",
    "    for i in range(0,4):\n",
    "        x = ZeroPadding2D((2,2))(x)\n",
    "        x = Conv2D(2**(5+i),(3,3))(x) \n",
    "        x = LeakyReLU(0.33)(x)\n",
    "        x = ZeroPadding2D((2,2))(x)\n",
    "        x = Conv2D(2**(5+i),(3,3))(x)\n",
    "        x = LeakyReLU(0.33)(x)\n",
    "        if (i != 3):\n",
    "            x = MaxPooling2D((3,3))(x)\n",
    "            x = Dropout(0.25)(x)\n",
    "    x = MaxPooling2D((9,9))(x)\n",
    "\n",
    "    x = Flatten()(x)\n",
    "    x = Dense(1024)(x)\n",
    "    x = LeakyReLU(0.33)(x)\n",
    "    x = Dropout(0.5)(x)\n",
    "    x = Dense(11,activation='sigmoid')(x)\n",
    "\n",
    "    model = Model(input=z,output=x)\n",
    "    \n",
    "    return model"
   ]
  },
  {
   "cell_type": "code",
   "execution_count": null,
   "metadata": {},
   "outputs": [],
   "source": [
    "x, y = [], []\n",
    "for i in range(FOLDS):\n",
    "    x.append(np.load(data+'x_fold'+str(i)+'_'+key+'.npy'))\n",
    "    y.append(np.load(data+'y_fold'+str(i)+'_'+key+'.npy'))"
   ]
  },
  {
   "cell_type": "code",
   "execution_count": null,
   "metadata": {},
   "outputs": [],
   "source": [
    "%env CUDA_DEVICE_ORDER=PCI_BUS_ID\n",
    "%env CUDA_VISIBLE_DEVICES=1"
   ]
  },
  {
   "cell_type": "code",
   "execution_count": null,
   "metadata": {
    "scrolled": true
   },
   "outputs": [],
   "source": [
    "for i in range(FOLDS):\n",
    "\n",
    "    x_train = np.concatenate(tuple([x[k] for k in range(5) if not k==i]))\n",
    "    y_train = np.concatenate(tuple([y[k] for k in range(5) if not k==i]))\n",
    "    x_dev, y_dev = x[i], y[i]\n",
    "    \n",
    "    \n",
    "    model = initialize_model(simple)\n",
    "    #model = han_model()\n",
    "    \n",
    "    earlystop = EarlyStopping(monitor='val_loss', patience=7, verbose=0, mode='min',restore_best_weights=True)\n",
    "    mcp_save = ModelCheckpoint(models+str(i)+'_'+key+'.hdf5', save_best_only=True, monitor='val_loss', mode='min')\n",
    "    reduce_lr_loss = ReduceLROnPlateau(monitor='val_loss', factor=0.1, patience=5, verbose=1, epsilon=1e-4, mode='min')\n",
    "    \n",
    "    model.compile(loss='binary_crossentropy',optimizer=keras.optimizers.Adam(lr=0.0001),metrics=['accuracy'])\n",
    "    model.fit(x_train,y_train,epochs=200,batch_size=128,validation_data=(x_dev,y_dev),\n",
    "              callbacks=[earlystop,mcp_save,reduce_lr_loss])\n",
    "    \n",
    "    print(\"Trained fold \"+str(i))"
   ]
  }
 ],
 "metadata": {
  "kernelspec": {
   "display_name": "Python 3",
   "language": "python",
   "name": "python3"
  },
  "language_info": {
   "codemirror_mode": {
    "name": "ipython",
    "version": 3
   },
   "file_extension": ".py",
   "mimetype": "text/x-python",
   "name": "python",
   "nbconvert_exporter": "python",
   "pygments_lexer": "ipython3",
   "version": "3.7.4"
  }
 },
 "nbformat": 4,
 "nbformat_minor": 4
}
