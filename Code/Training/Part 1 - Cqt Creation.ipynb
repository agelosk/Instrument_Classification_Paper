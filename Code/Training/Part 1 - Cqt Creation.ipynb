{
 "cells": [
  {
   "cell_type": "code",
   "execution_count": null,
   "metadata": {},
   "outputs": [],
   "source": [
    "import numpy as np, os, random, librosa\n",
    "from sklearn.preprocessing import MultiLabelBinarizer"
   ]
  },
  {
   "cell_type": "code",
   "execution_count": null,
   "metadata": {},
   "outputs": [],
   "source": [
    "dir =  # where the wav's are\n",
    "data = # where to save the cqt's\n",
    "\n",
    "key = # name of .npy file\n",
    "'\n",
    "FOLDS = 5 # folds for cross validation"
   ]
  },
  {
   "cell_type": "code",
   "execution_count": null,
   "metadata": {},
   "outputs": [],
   "source": [
    "x, y = [[] for _ in range(FOLDS)], [[] for _ in range(FOLDS)]\n",
    "\n",
    "for d in os.listdir(dir):\n",
    "    if not os.path.isdir(dir+d): continue\n",
    "    \n",
    "    x_temp = [dir+d+'/'+f for f in os.listdir(dir+d)]\n",
    "    random.shuffle(x_temp)\n",
    "    \n",
    "    split = int(np.floor(len(x_temp)//FOLDS))\n",
    "    for i in range(FOLDS):\n",
    "        x[i].extend(x_temp[i*split:(i+1)*split])\n",
    "        y[i].extend([d]*split)\n",
    "\n",
    "for i in range(FOLDS):\n",
    "    mlb = MultiLabelBinarizer()\n",
    "    p = np.random.permutation(len(x[i]))\n",
    "    x[i] = np.array(x[i])[p]\n",
    "    y[i] = np.array(y[i])[p]\n",
    "    y[i] = [label.split('-') for label in y[i]]\n",
    "    y[i] = mlb.fit_transform(y[i])"
   ]
  },
  {
   "cell_type": "code",
   "execution_count": null,
   "metadata": {},
   "outputs": [],
   "source": [
    "def cqt(x):\n",
    "    X_train = []\n",
    "    for f in x:\n",
    "        wav,sr = librosa.load(f,mono=True,sr=22050)\n",
    "        wav = wav / np.sqrt(np.mean(wav**2))\n",
    "        cqt = librosa.core.cqt(wav,n_bins=96,bins_per_octave=12,hop_length=256)\n",
    "        X_train.append(librosa.core.amplitude_to_db(np.abs(cqt)))      \n",
    "    return np.expand_dims(np.array(X_train),-1)"
   ]
  },
  {
   "cell_type": "code",
   "execution_count": null,
   "metadata": {},
   "outputs": [],
   "source": [
    "for i in range(FOLDS): \n",
    "    np.save(data+'x_fold'+str(i)+'_'+key+'.npy',cqt(x[i]))\n",
    "    np.save(data+'y_fold'+str(i)+'_'+key+'.npy',y[i]); \n",
    "    print(\"Created fold \"+str(i)+\".\")"
   ]
  }
 ],
 "metadata": {
  "kernelspec": {
   "display_name": "Python 3",
   "language": "python",
   "name": "python3"
  },
  "language_info": {
   "codemirror_mode": {
    "name": "ipython",
    "version": 3
   },
   "file_extension": ".py",
   "mimetype": "text/x-python",
   "name": "python",
   "nbconvert_exporter": "python",
   "pygments_lexer": "ipython3",
   "version": "3.7.4"
  }
 },
 "nbformat": 4,
 "nbformat_minor": 2
}
