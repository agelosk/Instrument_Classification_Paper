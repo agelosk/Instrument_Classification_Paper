{
 "cells": [
  {
   "cell_type": "code",
   "execution_count": null,
   "metadata": {},
   "outputs": [],
   "source": [
    "from pydub import AudioSegment\n",
    "from random import shuffle\n",
    "import itertools, os, numpy as np"
   ]
  },
  {
   "cell_type": "code",
   "execution_count": null,
   "metadata": {},
   "outputs": [],
   "source": [
    "dir = # where the solo dataset iss\n",
    "instr = [dir+d for d in os.listdir(dir) if '-' not in d]"
   ]
  },
  {
   "cell_type": "code",
   "execution_count": null,
   "metadata": {},
   "outputs": [],
   "source": [
    "for (instr1, instr2, instr3) in list(itertools.combinations(instr,3)):\n",
    "\n",
    "    #if instr1[-3:]!='cla': continue\n",
    "\n",
    "    list1 = [instr1+'/'+f for f in os.listdir(instr1)]\n",
    "    list2 = [instr2+'/'+f for f in os.listdir(instr2)]\n",
    "    list3 = [instr3+'/'+f for f in os.listdir(instr3)]\n",
    "    shuffle(list1); shuffle(list2); shuffle(list3)\n",
    "\n",
    "    folder = instr1[-3:]+'-'+instr2[-3:]+'-'+instr3[-3:]\n",
    "    os.makedirs(dir+folder,exist_ok=True)\n",
    "\n",
    "    #if len(list1)<=len(list2): list_b = list2; list_s = list1\n",
    "    #else: list_b = list1; list_s = list2\n",
    "    \n",
    "    lists = [list1,list2,list3]\n",
    "    m = np.argmin([len(lists[0]),len(lists[1]),len(lists[2])])\n",
    "\n",
    "    for i in range(len(lists[m])):\n",
    "        sound1 = AudioSegment.from_file(lists[m][i])\n",
    "        sound2 = AudioSegment.from_file(lists[(m+1)%3][i])\n",
    "        sound3 = AudioSegment.from_file(lists[(m+2)%3][i])\n",
    "        mix = (sound1.overlay(sound2)).overlay(sound3)\n",
    "        mix.export(dir + folder + '/' + folder + '_' + str(i+1) + '.wav', format='wav') \n",
    "    print(\"Done with folder:\",folder)"
   ]
  }
 ],
 "metadata": {
  "kernelspec": {
   "display_name": "Python 3",
   "language": "python",
   "name": "python3"
  },
  "language_info": {
   "codemirror_mode": {
    "name": "ipython",
    "version": 3
   },
   "file_extension": ".py",
   "mimetype": "text/x-python",
   "name": "python",
   "nbconvert_exporter": "python",
   "pygments_lexer": "ipython3",
   "version": "3.7.4"
  }
 },
 "nbformat": 4,
 "nbformat_minor": 4
}
