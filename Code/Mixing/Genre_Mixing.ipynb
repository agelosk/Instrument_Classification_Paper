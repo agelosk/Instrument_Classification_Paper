{
 "cells": [
  {
   "cell_type": "code",
   "execution_count": 1,
   "metadata": {},
   "outputs": [],
   "source": [
    "from pydub import AudioSegment\n",
    "from random import shuffle\n",
    "import itertools, os, re, numpy as np"
   ]
  },
  {
   "cell_type": "code",
   "execution_count": 2,
   "metadata": {},
   "outputs": [],
   "source": [
    "dir = # where the solo dataset it\n",
    "new_dir = # where to save the new genre_mixed dataset\n",
    "instr = [dir+d for d in os.listdir(dir) if 'txt' not in d]"
   ]
  },
  {
   "cell_type": "code",
   "execution_count": null,
   "metadata": {},
   "outputs": [],
   "source": [
    "for (instr1, instr2) in list(itertools.combinations(instr,2)):\n",
    "    \n",
    "    folder = instr1[-3:]+'-'+instr2[-3:]\n",
    "    os.makedirs(new_dir+folder,exist_ok=True)\n",
    "    \n",
    "    list1 = [instr1+'/'+f for f in os.listdir(instr1)]\n",
    "    list2 = [instr2+'/'+f for f in os.listdir(instr2)]\n",
    "    shuffle(list1); shuffle(list2)\n",
    "    \n",
    "    genre1 = [re.findall('\\[.*?\\]',x)[-1] for x in list1]\n",
    "    genre2 = [re.findall('\\[.*?\\]',x)[-1] for x in list2]\n",
    "    common_genres = set(genre1).intersection(genre2)\n",
    "    \n",
    "    for x in common_genres:\n",
    "\n",
    "        if instr1[-3:] in x: list1 = [instr1+'/'+f for f in os.listdir(instr1) if f.count(x)>1]\n",
    "        else: list1 = [instr1+'/'+f for f in os.listdir(instr1) if f.count(x)>0]\n",
    "        \n",
    "        if instr2[-3:] in x: list2 = [instr2+'/'+f for f in os.listdir(instr2) if f.count(x)>1]\n",
    "        else: list2 = [instr2+'/'+f for f in os.listdir(instr2) if f.count(x)>0]\n",
    "\n",
    "        if len(list1)>=len(list2): list_b = list2; list_s = list1\n",
    "        else: list_b = list1; list_s = list2\n",
    "                \n",
    "        for i in range(len(list_s)):\n",
    "            sound1 = AudioSegment.from_file(list_s[i])\n",
    "            sound2 = AudioSegment.from_file(list_b[i%len(list_b)])\n",
    "            mix = sound1.overlay(sound2)\n",
    "            mix.export(new_dir + folder + '/' + folder + x + '_' + str(i+1) + '.wav', format='wav') \n",
    "    \n",
    "    print(\"Done with folder:\",folder)"
   ]
  }
 ],
 "metadata": {
  "kernelspec": {
   "display_name": "Python 3",
   "language": "python",
   "name": "python3"
  },
  "language_info": {
   "codemirror_mode": {
    "name": "ipython",
    "version": 3
   },
   "file_extension": ".py",
   "mimetype": "text/x-python",
   "name": "python",
   "nbconvert_exporter": "python",
   "pygments_lexer": "ipython3",
   "version": "3.7.4"
  }
 },
 "nbformat": 4,
 "nbformat_minor": 4
}
