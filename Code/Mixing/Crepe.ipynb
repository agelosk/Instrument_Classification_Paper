{
 "cells": [
  {
   "cell_type": "code",
   "execution_count": 2,
   "metadata": {},
   "outputs": [],
   "source": [
    "import os, crepe, librosa, numpy as np"
   ]
  },
  {
   "cell_type": "code",
   "execution_count": 3,
   "metadata": {},
   "outputs": [],
   "source": [
    "folder = # where the solo dataset is"
   ]
  },
  {
   "cell_type": "code",
   "execution_count": null,
   "metadata": {},
   "outputs": [],
   "source": [
    "for f in os.listdir(folder):\n",
    "    print(\"MAKING\",f)\n",
    "    os.makedirs(\"csvfiles/\"+f,exist_ok=True)\n",
    "    for wav in os.listdir(folder+f):\n",
    "        y, sr = librosa.load(folder+f+\"/\"+wav)\n",
    "        pred = crepe.predict(y, sr, viterbi=False)\n",
    "        with open(\"csvfiles/\"+f+\"/\"+wav[:-4]+'.npy', 'wb') as file: np.save(file,pred[1][:-1])"
   ]
  }
 ],
 "metadata": {
  "kernelspec": {
   "display_name": "Python 3",
   "language": "python",
   "name": "python3"
  },
  "language_info": {
   "codemirror_mode": {
    "name": "ipython",
    "version": 3
   },
   "file_extension": ".py",
   "mimetype": "text/x-python",
   "name": "python",
   "nbconvert_exporter": "python",
   "pygments_lexer": "ipython3",
   "version": "3.7.4"
  }
 },
 "nbformat": 4,
 "nbformat_minor": 4
}
