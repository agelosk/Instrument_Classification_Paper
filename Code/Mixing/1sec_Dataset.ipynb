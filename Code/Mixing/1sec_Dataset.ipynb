{
 "cells": [
  {
   "cell_type": "code",
   "execution_count": 1,
   "metadata": {},
   "outputs": [],
   "source": [
    "import os, librosa, shutil, random\n",
    "from pydub.utils import make_chunks\n",
    "from scipy.io import wavfile"
   ]
  },
  {
   "cell_type": "code",
   "execution_count": 2,
   "metadata": {},
   "outputs": [],
   "source": [
    "dir = # where the initial dataset of 3sec chunks is\n",
    "new_dir = # where to save the cut dataset of 1sec chunks"
   ]
  },
  {
   "cell_type": "code",
   "execution_count": 8,
   "metadata": {
    "scrolled": false
   },
   "outputs": [],
   "source": [
    "for d in os.listdir(dir):\n",
    "    if not os.path.isdir(dir+d): continue\n",
    "    if os.path.isdir(new_dir+d): continue\n",
    "    os.makedirs(new_dir+d,exist_ok=True)\n",
    "    a = 1\n",
    "    print(\"Start with folder:\",d)\n",
    "    for f in os.listdir(dir+d):\n",
    "        wav,sr = librosa.load(dir+d+'/'+f,sr=22050)\n",
    "        chunks = make_chunks(wav,22050)\n",
    "        b = 1\n",
    "        for chunk in chunks:\n",
    "            wavfile.write(new_dir+d+'/'+f+'_'+str(a)+'_'+str(b)+'_'+d+ \".wav\",sr,chunk)\n",
    "            b += 1\n",
    "        a += 1\n",
    "    print(\"Done with folder:\",d)"
   ]
  }
 ],
 "metadata": {
  "kernelspec": {
   "display_name": "Python 3",
   "language": "python",
   "name": "python3"
  },
  "language_info": {
   "codemirror_mode": {
    "name": "ipython",
    "version": 3
   },
   "file_extension": ".py",
   "mimetype": "text/x-python",
   "name": "python",
   "nbconvert_exporter": "python",
   "pygments_lexer": "ipython3",
   "version": "3.7.4"
  }
 },
 "nbformat": 4,
 "nbformat_minor": 4
}
