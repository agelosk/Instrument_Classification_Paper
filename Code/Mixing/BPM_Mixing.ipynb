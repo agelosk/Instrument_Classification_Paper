{
 "cells": [
  {
   "cell_type": "code",
   "execution_count": null,
   "metadata": {},
   "outputs": [],
   "source": [
    "import librosa, itertools, os, sys, numpy as np\n",
    "from pydub import AudioSegment\n",
    "from random import shuffle"
   ]
  },
  {
   "cell_type": "code",
   "execution_count": null,
   "metadata": {},
   "outputs": [],
   "source": [
    "dir = # where the solo dataset is\n",
    "newdir = # where to save the new bpm_mixed dataset\n",
    "instr = [dir+d for d in os.listdir(dir) if '-' not in d]"
   ]
  },
  {
   "cell_type": "code",
   "execution_count": null,
   "metadata": {},
   "outputs": [],
   "source": [
    "def bpm_sync(f1,f2,d):\n",
    "\n",
    "    wav,sr = librosa.load(f1,mono=True,sr=22050)\n",
    "    bpm_base, _ = librosa.beat.beat_track(y=wav, sr=sr)\n",
    "    # print(f1,\"- Initial BPM:\",round(bpm_base,3))\n",
    "\n",
    "    wav,sr = librosa.load(f2,mono=True,sr=22050)\n",
    "    bpm, _ = librosa.beat.beat_track(y=wav, sr=sr)\n",
    "    wav = librosa.effects.time_stretch(wav, bpm_base/bpm)\n",
    "    # bpm, _ = librosa.beat.beat_track(y=wav, sr=sr)\n",
    "    # print(f2,\"- Custom  BPM:\",round(bpm,3))\n",
    "\n",
    "    # adjust to 3 sec\n",
    "    if len(wav)>3*sr: wav = wav[:3*sr]\n",
    "    else: wav = np.pad(wav,(0,3*sr-len(wav)),'wrap')\n",
    "    librosa.output.write_wav(d+\"temp_file.wav\",wav,sr)\n",
    "\n",
    "    return d+\"temp_file.wav\""
   ]
  },
  {
   "cell_type": "code",
   "execution_count": null,
   "metadata": {},
   "outputs": [],
   "source": [
    "for (instr1, instr2) in list(itertools.combinations(instr,2)):\n",
    "    \n",
    "    list1 = [instr1+'/'+f for f in os.listdir(instr1) if \"shift\" not in f]\n",
    "    list2 = [instr2+'/'+f for f in os.listdir(instr2) if \"shift\" not in f]\n",
    "    shuffle(list1); shuffle(list2)\n",
    "\n",
    "    if len(list1)<=len(list2): list_b, list_s = list2, list1\n",
    "    else: list_b, list_s = list1, list2\n",
    "\n",
    "    folder = instr1[-3:]+'-'+instr2[-3:]\n",
    "    os.makedirs(newdir+folder,exist_ok=True)\n",
    "\n",
    "    for i in range(len(list_s)):\n",
    "        synced_b = bpm_sync(list_s[i],list_b[i],newdir+folder)\n",
    "        sound1 = AudioSegment.from_file(list_s[i])\n",
    "        sound2 = AudioSegment.from_file(synced_b)\n",
    "        mix = sound1.overlay(sound2)\n",
    "        mix.export(newdir + folder + '/' + folder + '_' + str(i+1) + '.wav', format='wav')\n",
    "    print(\"Done with folder:\",folder)"
   ]
  }
 ],
 "metadata": {
  "kernelspec": {
   "display_name": "Python 3",
   "language": "python",
   "name": "python3"
  },
  "language_info": {
   "codemirror_mode": {
    "name": "ipython",
    "version": 3
   },
   "file_extension": ".py",
   "mimetype": "text/x-python",
   "name": "python",
   "nbconvert_exporter": "python",
   "pygments_lexer": "ipython3",
   "version": "3.7.4"
  }
 },
 "nbformat": 4,
 "nbformat_minor": 4
}
